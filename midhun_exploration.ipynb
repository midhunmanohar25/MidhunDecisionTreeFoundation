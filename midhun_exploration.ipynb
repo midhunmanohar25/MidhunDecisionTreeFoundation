{
 "cells": [
  {
   "cell_type": "code",
   "execution_count": 1,
   "id": "4414bcf4",
   "metadata": {},
   "outputs": [],
   "source": [
    "import pandas as pd\n",
    "import numpy as np\n",
    "import seaborn as sns\n",
    "import matplotlib.pyplot as plt\n",
    "import math\n",
    "import plotly_express as px\n",
    "import pprint\n",
    "\n",
    "# Install plotly_express if not already installed\n",
    "# %pip install plotly_express\n",
    "\n",
    "\n",
    "import warnings\n",
    "warnings.filterwarnings(\"ignore\")"
   ]
  },
  {
   "cell_type": "code",
   "execution_count": 2,
   "id": "c971038c",
   "metadata": {},
   "outputs": [
    {
     "data": {
      "text/html": [
       "<div>\n",
       "<style scoped>\n",
       "    .dataframe tbody tr th:only-of-type {\n",
       "        vertical-align: middle;\n",
       "    }\n",
       "\n",
       "    .dataframe tbody tr th {\n",
       "        vertical-align: top;\n",
       "    }\n",
       "\n",
       "    .dataframe thead th {\n",
       "        text-align: right;\n",
       "    }\n",
       "</style>\n",
       "<table border=\"1\" class=\"dataframe\">\n",
       "  <thead>\n",
       "    <tr style=\"text-align: right;\">\n",
       "      <th></th>\n",
       "      <th>id</th>\n",
       "      <th>diagnosis</th>\n",
       "      <th>radius_mean</th>\n",
       "      <th>texture_mean</th>\n",
       "      <th>perimeter_mean</th>\n",
       "      <th>area_mean</th>\n",
       "      <th>smoothness_mean</th>\n",
       "      <th>compactness_mean</th>\n",
       "      <th>concavity_mean</th>\n",
       "      <th>concave points_mean</th>\n",
       "      <th>...</th>\n",
       "      <th>texture_worst</th>\n",
       "      <th>perimeter_worst</th>\n",
       "      <th>area_worst</th>\n",
       "      <th>smoothness_worst</th>\n",
       "      <th>compactness_worst</th>\n",
       "      <th>concavity_worst</th>\n",
       "      <th>concave points_worst</th>\n",
       "      <th>symmetry_worst</th>\n",
       "      <th>fractal_dimension_worst</th>\n",
       "      <th>Unnamed: 32</th>\n",
       "    </tr>\n",
       "  </thead>\n",
       "  <tbody>\n",
       "    <tr>\n",
       "      <th>0</th>\n",
       "      <td>842302</td>\n",
       "      <td>M</td>\n",
       "      <td>17.99</td>\n",
       "      <td>10.38</td>\n",
       "      <td>122.80</td>\n",
       "      <td>1001.0</td>\n",
       "      <td>0.11840</td>\n",
       "      <td>0.27760</td>\n",
       "      <td>0.3001</td>\n",
       "      <td>0.14710</td>\n",
       "      <td>...</td>\n",
       "      <td>17.33</td>\n",
       "      <td>184.60</td>\n",
       "      <td>2019.0</td>\n",
       "      <td>0.1622</td>\n",
       "      <td>0.6656</td>\n",
       "      <td>0.7119</td>\n",
       "      <td>0.2654</td>\n",
       "      <td>0.4601</td>\n",
       "      <td>0.11890</td>\n",
       "      <td>NaN</td>\n",
       "    </tr>\n",
       "    <tr>\n",
       "      <th>1</th>\n",
       "      <td>842517</td>\n",
       "      <td>M</td>\n",
       "      <td>20.57</td>\n",
       "      <td>17.77</td>\n",
       "      <td>132.90</td>\n",
       "      <td>1326.0</td>\n",
       "      <td>0.08474</td>\n",
       "      <td>0.07864</td>\n",
       "      <td>0.0869</td>\n",
       "      <td>0.07017</td>\n",
       "      <td>...</td>\n",
       "      <td>23.41</td>\n",
       "      <td>158.80</td>\n",
       "      <td>1956.0</td>\n",
       "      <td>0.1238</td>\n",
       "      <td>0.1866</td>\n",
       "      <td>0.2416</td>\n",
       "      <td>0.1860</td>\n",
       "      <td>0.2750</td>\n",
       "      <td>0.08902</td>\n",
       "      <td>NaN</td>\n",
       "    </tr>\n",
       "    <tr>\n",
       "      <th>2</th>\n",
       "      <td>84300903</td>\n",
       "      <td>M</td>\n",
       "      <td>19.69</td>\n",
       "      <td>21.25</td>\n",
       "      <td>130.00</td>\n",
       "      <td>1203.0</td>\n",
       "      <td>0.10960</td>\n",
       "      <td>0.15990</td>\n",
       "      <td>0.1974</td>\n",
       "      <td>0.12790</td>\n",
       "      <td>...</td>\n",
       "      <td>25.53</td>\n",
       "      <td>152.50</td>\n",
       "      <td>1709.0</td>\n",
       "      <td>0.1444</td>\n",
       "      <td>0.4245</td>\n",
       "      <td>0.4504</td>\n",
       "      <td>0.2430</td>\n",
       "      <td>0.3613</td>\n",
       "      <td>0.08758</td>\n",
       "      <td>NaN</td>\n",
       "    </tr>\n",
       "    <tr>\n",
       "      <th>3</th>\n",
       "      <td>84348301</td>\n",
       "      <td>M</td>\n",
       "      <td>11.42</td>\n",
       "      <td>20.38</td>\n",
       "      <td>77.58</td>\n",
       "      <td>386.1</td>\n",
       "      <td>0.14250</td>\n",
       "      <td>0.28390</td>\n",
       "      <td>0.2414</td>\n",
       "      <td>0.10520</td>\n",
       "      <td>...</td>\n",
       "      <td>26.50</td>\n",
       "      <td>98.87</td>\n",
       "      <td>567.7</td>\n",
       "      <td>0.2098</td>\n",
       "      <td>0.8663</td>\n",
       "      <td>0.6869</td>\n",
       "      <td>0.2575</td>\n",
       "      <td>0.6638</td>\n",
       "      <td>0.17300</td>\n",
       "      <td>NaN</td>\n",
       "    </tr>\n",
       "    <tr>\n",
       "      <th>4</th>\n",
       "      <td>84358402</td>\n",
       "      <td>M</td>\n",
       "      <td>20.29</td>\n",
       "      <td>14.34</td>\n",
       "      <td>135.10</td>\n",
       "      <td>1297.0</td>\n",
       "      <td>0.10030</td>\n",
       "      <td>0.13280</td>\n",
       "      <td>0.1980</td>\n",
       "      <td>0.10430</td>\n",
       "      <td>...</td>\n",
       "      <td>16.67</td>\n",
       "      <td>152.20</td>\n",
       "      <td>1575.0</td>\n",
       "      <td>0.1374</td>\n",
       "      <td>0.2050</td>\n",
       "      <td>0.4000</td>\n",
       "      <td>0.1625</td>\n",
       "      <td>0.2364</td>\n",
       "      <td>0.07678</td>\n",
       "      <td>NaN</td>\n",
       "    </tr>\n",
       "  </tbody>\n",
       "</table>\n",
       "<p>5 rows × 33 columns</p>\n",
       "</div>"
      ],
      "text/plain": [
       "         id diagnosis  radius_mean  texture_mean  perimeter_mean  area_mean  \\\n",
       "0    842302         M        17.99         10.38          122.80     1001.0   \n",
       "1    842517         M        20.57         17.77          132.90     1326.0   \n",
       "2  84300903         M        19.69         21.25          130.00     1203.0   \n",
       "3  84348301         M        11.42         20.38           77.58      386.1   \n",
       "4  84358402         M        20.29         14.34          135.10     1297.0   \n",
       "\n",
       "   smoothness_mean  compactness_mean  concavity_mean  concave points_mean  \\\n",
       "0          0.11840           0.27760          0.3001              0.14710   \n",
       "1          0.08474           0.07864          0.0869              0.07017   \n",
       "2          0.10960           0.15990          0.1974              0.12790   \n",
       "3          0.14250           0.28390          0.2414              0.10520   \n",
       "4          0.10030           0.13280          0.1980              0.10430   \n",
       "\n",
       "   ...  texture_worst  perimeter_worst  area_worst  smoothness_worst  \\\n",
       "0  ...          17.33           184.60      2019.0            0.1622   \n",
       "1  ...          23.41           158.80      1956.0            0.1238   \n",
       "2  ...          25.53           152.50      1709.0            0.1444   \n",
       "3  ...          26.50            98.87       567.7            0.2098   \n",
       "4  ...          16.67           152.20      1575.0            0.1374   \n",
       "\n",
       "   compactness_worst  concavity_worst  concave points_worst  symmetry_worst  \\\n",
       "0             0.6656           0.7119                0.2654          0.4601   \n",
       "1             0.1866           0.2416                0.1860          0.2750   \n",
       "2             0.4245           0.4504                0.2430          0.3613   \n",
       "3             0.8663           0.6869                0.2575          0.6638   \n",
       "4             0.2050           0.4000                0.1625          0.2364   \n",
       "\n",
       "   fractal_dimension_worst  Unnamed: 32  \n",
       "0                  0.11890          NaN  \n",
       "1                  0.08902          NaN  \n",
       "2                  0.08758          NaN  \n",
       "3                  0.17300          NaN  \n",
       "4                  0.07678          NaN  \n",
       "\n",
       "[5 rows x 33 columns]"
      ]
     },
     "execution_count": 2,
     "metadata": {},
     "output_type": "execute_result"
    }
   ],
   "source": [
    "df = pd.read_csv(r'C:\\Users\\mabin\\Desktop\\DataScienceClassNotes\\DATA SCIENCE CODES\\Machine Learning\\Decision_Tree_Implementation\\MidhunDecisionTreeFoundation\\breast_cancer_data.csv')\n",
    "df.head()"
   ]
  },
  {
   "cell_type": "code",
   "execution_count": 3,
   "id": "2d773f3f",
   "metadata": {},
   "outputs": [
    {
     "name": "stdout",
     "output_type": "stream",
     "text": [
      "Shape (569, 33)\n",
      "----------------------------------------\n",
      "Columns Index(['id', 'diagnosis', 'radius_mean', 'texture_mean', 'perimeter_mean',\n",
      "       'area_mean', 'smoothness_mean', 'compactness_mean', 'concavity_mean',\n",
      "       'concave points_mean', 'symmetry_mean', 'fractal_dimension_mean',\n",
      "       'radius_se', 'texture_se', 'perimeter_se', 'area_se', 'smoothness_se',\n",
      "       'compactness_se', 'concavity_se', 'concave points_se', 'symmetry_se',\n",
      "       'fractal_dimension_se', 'radius_worst', 'texture_worst',\n",
      "       'perimeter_worst', 'area_worst', 'smoothness_worst',\n",
      "       'compactness_worst', 'concavity_worst', 'concave points_worst',\n",
      "       'symmetry_worst', 'fractal_dimension_worst', 'Unnamed: 32'],\n",
      "      dtype='object')\n",
      "----------------------------------------\n",
      "<class 'pandas.core.frame.DataFrame'>\n",
      "RangeIndex: 569 entries, 0 to 568\n",
      "Data columns (total 33 columns):\n",
      " #   Column                   Non-Null Count  Dtype  \n",
      "---  ------                   --------------  -----  \n",
      " 0   id                       569 non-null    int64  \n",
      " 1   diagnosis                569 non-null    object \n",
      " 2   radius_mean              569 non-null    float64\n",
      " 3   texture_mean             569 non-null    float64\n",
      " 4   perimeter_mean           569 non-null    float64\n",
      " 5   area_mean                569 non-null    float64\n",
      " 6   smoothness_mean          569 non-null    float64\n",
      " 7   compactness_mean         569 non-null    float64\n",
      " 8   concavity_mean           569 non-null    float64\n",
      " 9   concave points_mean      569 non-null    float64\n",
      " 10  symmetry_mean            569 non-null    float64\n",
      " 11  fractal_dimension_mean   569 non-null    float64\n",
      " 12  radius_se                569 non-null    float64\n",
      " 13  texture_se               569 non-null    float64\n",
      " 14  perimeter_se             569 non-null    float64\n",
      " 15  area_se                  569 non-null    float64\n",
      " 16  smoothness_se            569 non-null    float64\n",
      " 17  compactness_se           569 non-null    float64\n",
      " 18  concavity_se             569 non-null    float64\n",
      " 19  concave points_se        569 non-null    float64\n",
      " 20  symmetry_se              569 non-null    float64\n",
      " 21  fractal_dimension_se     569 non-null    float64\n",
      " 22  radius_worst             569 non-null    float64\n",
      " 23  texture_worst            569 non-null    float64\n",
      " 24  perimeter_worst          569 non-null    float64\n",
      " 25  area_worst               569 non-null    float64\n",
      " 26  smoothness_worst         569 non-null    float64\n",
      " 27  compactness_worst        569 non-null    float64\n",
      " 28  concavity_worst          569 non-null    float64\n",
      " 29  concave points_worst     569 non-null    float64\n",
      " 30  symmetry_worst           569 non-null    float64\n",
      " 31  fractal_dimension_worst  569 non-null    float64\n",
      " 32  Unnamed: 32              0 non-null      float64\n",
      "dtypes: float64(31), int64(1), object(1)\n",
      "memory usage: 146.8+ KB\n",
      "None\n",
      "----------------------------------------\n",
      "Null Values\n",
      " id                           0\n",
      "diagnosis                    0\n",
      "radius_mean                  0\n",
      "texture_mean                 0\n",
      "perimeter_mean               0\n",
      "area_mean                    0\n",
      "smoothness_mean              0\n",
      "compactness_mean             0\n",
      "concavity_mean               0\n",
      "concave points_mean          0\n",
      "symmetry_mean                0\n",
      "fractal_dimension_mean       0\n",
      "radius_se                    0\n",
      "texture_se                   0\n",
      "perimeter_se                 0\n",
      "area_se                      0\n",
      "smoothness_se                0\n",
      "compactness_se               0\n",
      "concavity_se                 0\n",
      "concave points_se            0\n",
      "symmetry_se                  0\n",
      "fractal_dimension_se         0\n",
      "radius_worst                 0\n",
      "texture_worst                0\n",
      "perimeter_worst              0\n",
      "area_worst                   0\n",
      "smoothness_worst             0\n",
      "compactness_worst            0\n",
      "concavity_worst              0\n",
      "concave points_worst         0\n",
      "symmetry_worst               0\n",
      "fractal_dimension_worst      0\n",
      "Unnamed: 32                569\n",
      "dtype: int64\n"
     ]
    }
   ],
   "source": [
    "print(\"Shape\" ,df.shape)\n",
    "print(\"-\"*40)\n",
    "print(\"Columns\", df.columns)\n",
    "print(\"-\"*40)\n",
    "print(df.info())\n",
    "print(\"-\"*40)\n",
    "print(\"Null Values\\n\", df.isnull().sum())"
   ]
  },
  {
   "cell_type": "code",
   "execution_count": 4,
   "id": "9a0464b2",
   "metadata": {},
   "outputs": [
    {
     "name": "stdout",
     "output_type": "stream",
     "text": [
      "Droppint the redundant columns\n",
      "\n"
     ]
    },
    {
     "data": {
      "text/plain": [
       "(569, 31)"
      ]
     },
     "execution_count": 4,
     "metadata": {},
     "output_type": "execute_result"
    }
   ],
   "source": [
    "print(\"Droppint the redundant columns\\n\")\n",
    "\n",
    "df.drop(columns=['Unnamed: 32',\"id\"],axis=1, inplace=True)\n",
    "\n",
    "df.shape"
   ]
  },
  {
   "cell_type": "code",
   "execution_count": 5,
   "id": "04b3cb98",
   "metadata": {},
   "outputs": [
    {
     "data": {
      "text/plain": [
       "Index(['diagnosis', 'radius_mean', 'texture_mean', 'perimeter_mean',\n",
       "       'area_mean', 'smoothness_mean', 'compactness_mean', 'concavity_mean',\n",
       "       'concave points_mean', 'symmetry_mean', 'fractal_dimension_mean',\n",
       "       'radius_se', 'texture_se', 'perimeter_se', 'area_se', 'smoothness_se',\n",
       "       'compactness_se', 'concavity_se', 'concave points_se', 'symmetry_se',\n",
       "       'fractal_dimension_se', 'radius_worst', 'texture_worst',\n",
       "       'perimeter_worst', 'area_worst', 'smoothness_worst',\n",
       "       'compactness_worst', 'concavity_worst', 'concave points_worst',\n",
       "       'symmetry_worst', 'fractal_dimension_worst'],\n",
       "      dtype='object')"
      ]
     },
     "execution_count": 5,
     "metadata": {},
     "output_type": "execute_result"
    }
   ],
   "source": [
    "df.columns"
   ]
  },
  {
   "cell_type": "code",
   "execution_count": 6,
   "id": "ea667171",
   "metadata": {},
   "outputs": [
    {
     "name": "stdout",
     "output_type": "stream",
     "text": [
      "Unique values in the Output label\n",
      "\n"
     ]
    },
    {
     "data": {
      "text/plain": [
       "array(['M', 'B'], dtype=object)"
      ]
     },
     "execution_count": 6,
     "metadata": {},
     "output_type": "execute_result"
    }
   ],
   "source": [
    "# We take Output column / Output label / Y- label as \"diagnosis column\"\n",
    "\n",
    "print(\"Unique values in the Output label\\n\")\n",
    "df['diagnosis'].unique()\n",
    "\n",
    "# M : Malignant , B : Benign"
   ]
  },
  {
   "cell_type": "code",
   "execution_count": 7,
   "id": "f41635f0",
   "metadata": {},
   "outputs": [
    {
     "data": {
      "application/vnd.plotly.v1+json": {
       "config": {
        "plotlyServerURL": "https://plot.ly"
       },
       "data": [
        {
         "customdata": [
          [
           "M"
          ],
          [
           "M"
          ],
          [
           "M"
          ],
          [
           "M"
          ],
          [
           "M"
          ],
          [
           "M"
          ],
          [
           "M"
          ],
          [
           "M"
          ],
          [
           "M"
          ],
          [
           "M"
          ],
          [
           "M"
          ],
          [
           "M"
          ],
          [
           "M"
          ],
          [
           "M"
          ],
          [
           "M"
          ],
          [
           "M"
          ],
          [
           "M"
          ],
          [
           "M"
          ],
          [
           "M"
          ],
          [
           "B"
          ],
          [
           "B"
          ],
          [
           "B"
          ],
          [
           "M"
          ],
          [
           "M"
          ],
          [
           "M"
          ],
          [
           "M"
          ],
          [
           "M"
          ],
          [
           "M"
          ],
          [
           "M"
          ],
          [
           "M"
          ],
          [
           "M"
          ],
          [
           "M"
          ],
          [
           "M"
          ],
          [
           "M"
          ],
          [
           "M"
          ],
          [
           "M"
          ],
          [
           "M"
          ],
          [
           "B"
          ],
          [
           "M"
          ],
          [
           "M"
          ],
          [
           "M"
          ],
          [
           "M"
          ],
          [
           "M"
          ],
          [
           "M"
          ],
          [
           "M"
          ],
          [
           "M"
          ],
          [
           "B"
          ],
          [
           "M"
          ],
          [
           "B"
          ],
          [
           "B"
          ],
          [
           "B"
          ],
          [
           "B"
          ],
          [
           "B"
          ],
          [
           "M"
          ],
          [
           "M"
          ],
          [
           "B"
          ],
          [
           "M"
          ],
          [
           "M"
          ],
          [
           "B"
          ],
          [
           "B"
          ],
          [
           "B"
          ],
          [
           "B"
          ],
          [
           "M"
          ],
          [
           "B"
          ],
          [
           "M"
          ],
          [
           "M"
          ],
          [
           "B"
          ],
          [
           "B"
          ],
          [
           "B"
          ],
          [
           "B"
          ],
          [
           "M"
          ],
          [
           "B"
          ],
          [
           "M"
          ],
          [
           "M"
          ],
          [
           "B"
          ],
          [
           "M"
          ],
          [
           "B"
          ],
          [
           "M"
          ],
          [
           "M"
          ],
          [
           "B"
          ],
          [
           "B"
          ],
          [
           "B"
          ],
          [
           "M"
          ],
          [
           "M"
          ],
          [
           "B"
          ],
          [
           "M"
          ],
          [
           "M"
          ],
          [
           "M"
          ],
          [
           "B"
          ],
          [
           "B"
          ],
          [
           "B"
          ],
          [
           "M"
          ],
          [
           "B"
          ],
          [
           "B"
          ],
          [
           "M"
          ],
          [
           "M"
          ],
          [
           "B"
          ],
          [
           "B"
          ],
          [
           "B"
          ],
          [
           "M"
          ],
          [
           "M"
          ],
          [
           "B"
          ],
          [
           "B"
          ],
          [
           "B"
          ],
          [
           "B"
          ],
          [
           "M"
          ],
          [
           "B"
          ],
          [
           "B"
          ],
          [
           "M"
          ],
          [
           "B"
          ],
          [
           "B"
          ],
          [
           "B"
          ],
          [
           "B"
          ],
          [
           "B"
          ],
          [
           "B"
          ],
          [
           "B"
          ],
          [
           "B"
          ],
          [
           "M"
          ],
          [
           "M"
          ],
          [
           "M"
          ],
          [
           "B"
          ],
          [
           "M"
          ],
          [
           "M"
          ],
          [
           "B"
          ],
          [
           "B"
          ],
          [
           "B"
          ],
          [
           "M"
          ],
          [
           "M"
          ],
          [
           "B"
          ],
          [
           "M"
          ],
          [
           "B"
          ],
          [
           "M"
          ],
          [
           "M"
          ],
          [
           "B"
          ],
          [
           "M"
          ],
          [
           "M"
          ],
          [
           "B"
          ],
          [
           "B"
          ],
          [
           "M"
          ],
          [
           "B"
          ],
          [
           "B"
          ],
          [
           "M"
          ],
          [
           "B"
          ],
          [
           "B"
          ],
          [
           "B"
          ],
          [
           "B"
          ],
          [
           "M"
          ],
          [
           "B"
          ],
          [
           "B"
          ],
          [
           "B"
          ],
          [
           "B"
          ],
          [
           "B"
          ],
          [
           "B"
          ],
          [
           "B"
          ],
          [
           "B"
          ],
          [
           "B"
          ],
          [
           "M"
          ],
          [
           "B"
          ],
          [
           "B"
          ],
          [
           "B"
          ],
          [
           "B"
          ],
          [
           "M"
          ],
          [
           "M"
          ],
          [
           "B"
          ],
          [
           "M"
          ],
          [
           "B"
          ],
          [
           "B"
          ],
          [
           "M"
          ],
          [
           "M"
          ],
          [
           "B"
          ],
          [
           "B"
          ],
          [
           "M"
          ],
          [
           "M"
          ],
          [
           "B"
          ],
          [
           "B"
          ],
          [
           "B"
          ],
          [
           "B"
          ],
          [
           "M"
          ],
          [
           "B"
          ],
          [
           "B"
          ],
          [
           "M"
          ],
          [
           "M"
          ],
          [
           "M"
          ],
          [
           "B"
          ],
          [
           "M"
          ],
          [
           "B"
          ],
          [
           "M"
          ],
          [
           "B"
          ],
          [
           "B"
          ],
          [
           "B"
          ],
          [
           "M"
          ],
          [
           "B"
          ],
          [
           "B"
          ],
          [
           "M"
          ],
          [
           "M"
          ],
          [
           "B"
          ],
          [
           "M"
          ],
          [
           "M"
          ],
          [
           "M"
          ],
          [
           "M"
          ],
          [
           "B"
          ],
          [
           "M"
          ],
          [
           "M"
          ],
          [
           "M"
          ],
          [
           "B"
          ],
          [
           "M"
          ],
          [
           "B"
          ],
          [
           "M"
          ],
          [
           "B"
          ],
          [
           "B"
          ],
          [
           "M"
          ],
          [
           "B"
          ],
          [
           "M"
          ],
          [
           "M"
          ],
          [
           "M"
          ],
          [
           "M"
          ],
          [
           "B"
          ],
          [
           "B"
          ],
          [
           "M"
          ],
          [
           "M"
          ],
          [
           "B"
          ],
          [
           "B"
          ],
          [
           "B"
          ],
          [
           "M"
          ],
          [
           "B"
          ],
          [
           "B"
          ],
          [
           "B"
          ],
          [
           "B"
          ],
          [
           "B"
          ],
          [
           "M"
          ],
          [
           "M"
          ],
          [
           "B"
          ],
          [
           "B"
          ],
          [
           "M"
          ],
          [
           "B"
          ],
          [
           "B"
          ],
          [
           "M"
          ],
          [
           "M"
          ],
          [
           "B"
          ],
          [
           "M"
          ],
          [
           "B"
          ],
          [
           "B"
          ],
          [
           "B"
          ],
          [
           "B"
          ],
          [
           "M"
          ],
          [
           "B"
          ],
          [
           "B"
          ],
          [
           "B"
          ],
          [
           "B"
          ],
          [
           "B"
          ],
          [
           "M"
          ],
          [
           "B"
          ],
          [
           "M"
          ],
          [
           "M"
          ],
          [
           "M"
          ],
          [
           "M"
          ],
          [
           "M"
          ],
          [
           "M"
          ],
          [
           "M"
          ],
          [
           "M"
          ],
          [
           "M"
          ],
          [
           "M"
          ],
          [
           "M"
          ],
          [
           "M"
          ],
          [
           "M"
          ],
          [
           "M"
          ],
          [
           "B"
          ],
          [
           "B"
          ],
          [
           "B"
          ],
          [
           "B"
          ],
          [
           "B"
          ],
          [
           "B"
          ],
          [
           "M"
          ],
          [
           "B"
          ],
          [
           "M"
          ],
          [
           "B"
          ],
          [
           "B"
          ],
          [
           "M"
          ],
          [
           "B"
          ],
          [
           "B"
          ],
          [
           "M"
          ],
          [
           "B"
          ],
          [
           "M"
          ],
          [
           "M"
          ],
          [
           "B"
          ],
          [
           "B"
          ],
          [
           "B"
          ],
          [
           "B"
          ],
          [
           "B"
          ],
          [
           "B"
          ],
          [
           "B"
          ],
          [
           "B"
          ],
          [
           "B"
          ],
          [
           "B"
          ],
          [
           "B"
          ],
          [
           "B"
          ],
          [
           "B"
          ],
          [
           "M"
          ],
          [
           "B"
          ],
          [
           "B"
          ],
          [
           "M"
          ],
          [
           "B"
          ],
          [
           "M"
          ],
          [
           "B"
          ],
          [
           "B"
          ],
          [
           "B"
          ],
          [
           "B"
          ],
          [
           "B"
          ],
          [
           "B"
          ],
          [
           "B"
          ],
          [
           "B"
          ],
          [
           "B"
          ],
          [
           "B"
          ],
          [
           "B"
          ],
          [
           "B"
          ],
          [
           "B"
          ],
          [
           "B"
          ],
          [
           "M"
          ],
          [
           "B"
          ],
          [
           "B"
          ],
          [
           "B"
          ],
          [
           "M"
          ],
          [
           "B"
          ],
          [
           "M"
          ],
          [
           "B"
          ],
          [
           "B"
          ],
          [
           "B"
          ],
          [
           "B"
          ],
          [
           "M"
          ],
          [
           "M"
          ],
          [
           "M"
          ],
          [
           "B"
          ],
          [
           "B"
          ],
          [
           "B"
          ],
          [
           "B"
          ],
          [
           "M"
          ],
          [
           "B"
          ],
          [
           "M"
          ],
          [
           "B"
          ],
          [
           "M"
          ],
          [
           "B"
          ],
          [
           "B"
          ],
          [
           "B"
          ],
          [
           "M"
          ],
          [
           "B"
          ],
          [
           "B"
          ],
          [
           "B"
          ],
          [
           "B"
          ],
          [
           "B"
          ],
          [
           "B"
          ],
          [
           "B"
          ],
          [
           "M"
          ],
          [
           "M"
          ],
          [
           "M"
          ],
          [
           "B"
          ],
          [
           "B"
          ],
          [
           "B"
          ],
          [
           "B"
          ],
          [
           "B"
          ],
          [
           "B"
          ],
          [
           "B"
          ],
          [
           "B"
          ],
          [
           "B"
          ],
          [
           "B"
          ],
          [
           "B"
          ],
          [
           "M"
          ],
          [
           "M"
          ],
          [
           "B"
          ],
          [
           "M"
          ],
          [
           "M"
          ],
          [
           "M"
          ],
          [
           "B"
          ],
          [
           "M"
          ],
          [
           "M"
          ],
          [
           "B"
          ],
          [
           "B"
          ],
          [
           "B"
          ],
          [
           "B"
          ],
          [
           "B"
          ],
          [
           "M"
          ],
          [
           "B"
          ],
          [
           "B"
          ],
          [
           "B"
          ],
          [
           "B"
          ],
          [
           "B"
          ],
          [
           "M"
          ],
          [
           "B"
          ],
          [
           "B"
          ],
          [
           "B"
          ],
          [
           "M"
          ],
          [
           "B"
          ],
          [
           "B"
          ],
          [
           "M"
          ],
          [
           "M"
          ],
          [
           "B"
          ],
          [
           "B"
          ],
          [
           "B"
          ],
          [
           "B"
          ],
          [
           "B"
          ],
          [
           "B"
          ],
          [
           "M"
          ],
          [
           "B"
          ],
          [
           "B"
          ],
          [
           "B"
          ],
          [
           "B"
          ],
          [
           "B"
          ],
          [
           "B"
          ],
          [
           "B"
          ],
          [
           "M"
          ],
          [
           "B"
          ],
          [
           "B"
          ],
          [
           "B"
          ],
          [
           "B"
          ],
          [
           "B"
          ],
          [
           "M"
          ],
          [
           "B"
          ],
          [
           "B"
          ],
          [
           "M"
          ],
          [
           "B"
          ],
          [
           "B"
          ],
          [
           "B"
          ],
          [
           "B"
          ],
          [
           "B"
          ],
          [
           "B"
          ],
          [
           "B"
          ],
          [
           "B"
          ],
          [
           "B"
          ],
          [
           "B"
          ],
          [
           "B"
          ],
          [
           "B"
          ],
          [
           "M"
          ],
          [
           "B"
          ],
          [
           "M"
          ],
          [
           "M"
          ],
          [
           "B"
          ],
          [
           "M"
          ],
          [
           "B"
          ],
          [
           "B"
          ],
          [
           "B"
          ],
          [
           "B"
          ],
          [
           "B"
          ],
          [
           "M"
          ],
          [
           "B"
          ],
          [
           "B"
          ],
          [
           "M"
          ],
          [
           "B"
          ],
          [
           "M"
          ],
          [
           "B"
          ],
          [
           "B"
          ],
          [
           "M"
          ],
          [
           "B"
          ],
          [
           "M"
          ],
          [
           "B"
          ],
          [
           "B"
          ],
          [
           "B"
          ],
          [
           "B"
          ],
          [
           "B"
          ],
          [
           "B"
          ],
          [
           "B"
          ],
          [
           "B"
          ],
          [
           "M"
          ],
          [
           "M"
          ],
          [
           "B"
          ],
          [
           "B"
          ],
          [
           "B"
          ],
          [
           "B"
          ],
          [
           "B"
          ],
          [
           "B"
          ],
          [
           "M"
          ],
          [
           "B"
          ],
          [
           "B"
          ],
          [
           "B"
          ],
          [
           "B"
          ],
          [
           "B"
          ],
          [
           "B"
          ],
          [
           "B"
          ],
          [
           "B"
          ],
          [
           "B"
          ],
          [
           "B"
          ],
          [
           "M"
          ],
          [
           "B"
          ],
          [
           "B"
          ],
          [
           "B"
          ],
          [
           "B"
          ],
          [
           "B"
          ],
          [
           "B"
          ],
          [
           "B"
          ],
          [
           "M"
          ],
          [
           "B"
          ],
          [
           "M"
          ],
          [
           "B"
          ],
          [
           "B"
          ],
          [
           "M"
          ],
          [
           "B"
          ],
          [
           "B"
          ],
          [
           "B"
          ],
          [
           "B"
          ],
          [
           "B"
          ],
          [
           "M"
          ],
          [
           "M"
          ],
          [
           "B"
          ],
          [
           "M"
          ],
          [
           "B"
          ],
          [
           "M"
          ],
          [
           "B"
          ],
          [
           "B"
          ],
          [
           "B"
          ],
          [
           "B"
          ],
          [
           "B"
          ],
          [
           "M"
          ],
          [
           "B"
          ],
          [
           "B"
          ],
          [
           "M"
          ],
          [
           "B"
          ],
          [
           "M"
          ],
          [
           "B"
          ],
          [
           "M"
          ],
          [
           "M"
          ],
          [
           "B"
          ],
          [
           "B"
          ],
          [
           "B"
          ],
          [
           "M"
          ],
          [
           "B"
          ],
          [
           "B"
          ],
          [
           "B"
          ],
          [
           "B"
          ],
          [
           "B"
          ],
          [
           "B"
          ],
          [
           "B"
          ],
          [
           "B"
          ],
          [
           "B"
          ],
          [
           "B"
          ],
          [
           "B"
          ],
          [
           "M"
          ],
          [
           "B"
          ],
          [
           "M"
          ],
          [
           "M"
          ],
          [
           "B"
          ],
          [
           "B"
          ],
          [
           "B"
          ],
          [
           "B"
          ],
          [
           "B"
          ],
          [
           "B"
          ],
          [
           "B"
          ],
          [
           "B"
          ],
          [
           "B"
          ],
          [
           "B"
          ],
          [
           "B"
          ],
          [
           "B"
          ],
          [
           "B"
          ],
          [
           "B"
          ],
          [
           "B"
          ],
          [
           "B"
          ],
          [
           "B"
          ],
          [
           "B"
          ],
          [
           "B"
          ],
          [
           "B"
          ],
          [
           "B"
          ],
          [
           "B"
          ],
          [
           "B"
          ],
          [
           "B"
          ],
          [
           "B"
          ],
          [
           "M"
          ],
          [
           "M"
          ],
          [
           "M"
          ],
          [
           "M"
          ],
          [
           "M"
          ],
          [
           "M"
          ],
          [
           "B"
          ]
         ],
         "domain": {
          "x": [
           0,
           1
          ],
          "y": [
           0,
           1
          ]
         },
         "hovertemplate": "diagnosis=%{customdata[0]}<extra></extra>",
         "labels": [
          "M",
          "M",
          "M",
          "M",
          "M",
          "M",
          "M",
          "M",
          "M",
          "M",
          "M",
          "M",
          "M",
          "M",
          "M",
          "M",
          "M",
          "M",
          "M",
          "B",
          "B",
          "B",
          "M",
          "M",
          "M",
          "M",
          "M",
          "M",
          "M",
          "M",
          "M",
          "M",
          "M",
          "M",
          "M",
          "M",
          "M",
          "B",
          "M",
          "M",
          "M",
          "M",
          "M",
          "M",
          "M",
          "M",
          "B",
          "M",
          "B",
          "B",
          "B",
          "B",
          "B",
          "M",
          "M",
          "B",
          "M",
          "M",
          "B",
          "B",
          "B",
          "B",
          "M",
          "B",
          "M",
          "M",
          "B",
          "B",
          "B",
          "B",
          "M",
          "B",
          "M",
          "M",
          "B",
          "M",
          "B",
          "M",
          "M",
          "B",
          "B",
          "B",
          "M",
          "M",
          "B",
          "M",
          "M",
          "M",
          "B",
          "B",
          "B",
          "M",
          "B",
          "B",
          "M",
          "M",
          "B",
          "B",
          "B",
          "M",
          "M",
          "B",
          "B",
          "B",
          "B",
          "M",
          "B",
          "B",
          "M",
          "B",
          "B",
          "B",
          "B",
          "B",
          "B",
          "B",
          "B",
          "M",
          "M",
          "M",
          "B",
          "M",
          "M",
          "B",
          "B",
          "B",
          "M",
          "M",
          "B",
          "M",
          "B",
          "M",
          "M",
          "B",
          "M",
          "M",
          "B",
          "B",
          "M",
          "B",
          "B",
          "M",
          "B",
          "B",
          "B",
          "B",
          "M",
          "B",
          "B",
          "B",
          "B",
          "B",
          "B",
          "B",
          "B",
          "B",
          "M",
          "B",
          "B",
          "B",
          "B",
          "M",
          "M",
          "B",
          "M",
          "B",
          "B",
          "M",
          "M",
          "B",
          "B",
          "M",
          "M",
          "B",
          "B",
          "B",
          "B",
          "M",
          "B",
          "B",
          "M",
          "M",
          "M",
          "B",
          "M",
          "B",
          "M",
          "B",
          "B",
          "B",
          "M",
          "B",
          "B",
          "M",
          "M",
          "B",
          "M",
          "M",
          "M",
          "M",
          "B",
          "M",
          "M",
          "M",
          "B",
          "M",
          "B",
          "M",
          "B",
          "B",
          "M",
          "B",
          "M",
          "M",
          "M",
          "M",
          "B",
          "B",
          "M",
          "M",
          "B",
          "B",
          "B",
          "M",
          "B",
          "B",
          "B",
          "B",
          "B",
          "M",
          "M",
          "B",
          "B",
          "M",
          "B",
          "B",
          "M",
          "M",
          "B",
          "M",
          "B",
          "B",
          "B",
          "B",
          "M",
          "B",
          "B",
          "B",
          "B",
          "B",
          "M",
          "B",
          "M",
          "M",
          "M",
          "M",
          "M",
          "M",
          "M",
          "M",
          "M",
          "M",
          "M",
          "M",
          "M",
          "M",
          "B",
          "B",
          "B",
          "B",
          "B",
          "B",
          "M",
          "B",
          "M",
          "B",
          "B",
          "M",
          "B",
          "B",
          "M",
          "B",
          "M",
          "M",
          "B",
          "B",
          "B",
          "B",
          "B",
          "B",
          "B",
          "B",
          "B",
          "B",
          "B",
          "B",
          "B",
          "M",
          "B",
          "B",
          "M",
          "B",
          "M",
          "B",
          "B",
          "B",
          "B",
          "B",
          "B",
          "B",
          "B",
          "B",
          "B",
          "B",
          "B",
          "B",
          "B",
          "M",
          "B",
          "B",
          "B",
          "M",
          "B",
          "M",
          "B",
          "B",
          "B",
          "B",
          "M",
          "M",
          "M",
          "B",
          "B",
          "B",
          "B",
          "M",
          "B",
          "M",
          "B",
          "M",
          "B",
          "B",
          "B",
          "M",
          "B",
          "B",
          "B",
          "B",
          "B",
          "B",
          "B",
          "M",
          "M",
          "M",
          "B",
          "B",
          "B",
          "B",
          "B",
          "B",
          "B",
          "B",
          "B",
          "B",
          "B",
          "M",
          "M",
          "B",
          "M",
          "M",
          "M",
          "B",
          "M",
          "M",
          "B",
          "B",
          "B",
          "B",
          "B",
          "M",
          "B",
          "B",
          "B",
          "B",
          "B",
          "M",
          "B",
          "B",
          "B",
          "M",
          "B",
          "B",
          "M",
          "M",
          "B",
          "B",
          "B",
          "B",
          "B",
          "B",
          "M",
          "B",
          "B",
          "B",
          "B",
          "B",
          "B",
          "B",
          "M",
          "B",
          "B",
          "B",
          "B",
          "B",
          "M",
          "B",
          "B",
          "M",
          "B",
          "B",
          "B",
          "B",
          "B",
          "B",
          "B",
          "B",
          "B",
          "B",
          "B",
          "B",
          "M",
          "B",
          "M",
          "M",
          "B",
          "M",
          "B",
          "B",
          "B",
          "B",
          "B",
          "M",
          "B",
          "B",
          "M",
          "B",
          "M",
          "B",
          "B",
          "M",
          "B",
          "M",
          "B",
          "B",
          "B",
          "B",
          "B",
          "B",
          "B",
          "B",
          "M",
          "M",
          "B",
          "B",
          "B",
          "B",
          "B",
          "B",
          "M",
          "B",
          "B",
          "B",
          "B",
          "B",
          "B",
          "B",
          "B",
          "B",
          "B",
          "M",
          "B",
          "B",
          "B",
          "B",
          "B",
          "B",
          "B",
          "M",
          "B",
          "M",
          "B",
          "B",
          "M",
          "B",
          "B",
          "B",
          "B",
          "B",
          "M",
          "M",
          "B",
          "M",
          "B",
          "M",
          "B",
          "B",
          "B",
          "B",
          "B",
          "M",
          "B",
          "B",
          "M",
          "B",
          "M",
          "B",
          "M",
          "M",
          "B",
          "B",
          "B",
          "M",
          "B",
          "B",
          "B",
          "B",
          "B",
          "B",
          "B",
          "B",
          "B",
          "B",
          "B",
          "M",
          "B",
          "M",
          "M",
          "B",
          "B",
          "B",
          "B",
          "B",
          "B",
          "B",
          "B",
          "B",
          "B",
          "B",
          "B",
          "B",
          "B",
          "B",
          "B",
          "B",
          "B",
          "B",
          "B",
          "B",
          "B",
          "B",
          "B",
          "B",
          "M",
          "M",
          "M",
          "M",
          "M",
          "M",
          "B"
         ],
         "legendgroup": "",
         "marker": {
          "colors": [
           "#FF0000",
           "#FF0000",
           "#FF0000",
           "#FF0000",
           "#FF0000",
           "#FF0000",
           "#FF0000",
           "#FF0000",
           "#FF0000",
           "#FF0000",
           "#FF0000",
           "#FF0000",
           "#FF0000",
           "#FF0000",
           "#FF0000",
           "#FF0000",
           "#FF0000",
           "#FF0000",
           "#FF0000",
           "#00FF00",
           "#00FF00",
           "#00FF00",
           "#FF0000",
           "#FF0000",
           "#FF0000",
           "#FF0000",
           "#FF0000",
           "#FF0000",
           "#FF0000",
           "#FF0000",
           "#FF0000",
           "#FF0000",
           "#FF0000",
           "#FF0000",
           "#FF0000",
           "#FF0000",
           "#FF0000",
           "#00FF00",
           "#FF0000",
           "#FF0000",
           "#FF0000",
           "#FF0000",
           "#FF0000",
           "#FF0000",
           "#FF0000",
           "#FF0000",
           "#00FF00",
           "#FF0000",
           "#00FF00",
           "#00FF00",
           "#00FF00",
           "#00FF00",
           "#00FF00",
           "#FF0000",
           "#FF0000",
           "#00FF00",
           "#FF0000",
           "#FF0000",
           "#00FF00",
           "#00FF00",
           "#00FF00",
           "#00FF00",
           "#FF0000",
           "#00FF00",
           "#FF0000",
           "#FF0000",
           "#00FF00",
           "#00FF00",
           "#00FF00",
           "#00FF00",
           "#FF0000",
           "#00FF00",
           "#FF0000",
           "#FF0000",
           "#00FF00",
           "#FF0000",
           "#00FF00",
           "#FF0000",
           "#FF0000",
           "#00FF00",
           "#00FF00",
           "#00FF00",
           "#FF0000",
           "#FF0000",
           "#00FF00",
           "#FF0000",
           "#FF0000",
           "#FF0000",
           "#00FF00",
           "#00FF00",
           "#00FF00",
           "#FF0000",
           "#00FF00",
           "#00FF00",
           "#FF0000",
           "#FF0000",
           "#00FF00",
           "#00FF00",
           "#00FF00",
           "#FF0000",
           "#FF0000",
           "#00FF00",
           "#00FF00",
           "#00FF00",
           "#00FF00",
           "#FF0000",
           "#00FF00",
           "#00FF00",
           "#FF0000",
           "#00FF00",
           "#00FF00",
           "#00FF00",
           "#00FF00",
           "#00FF00",
           "#00FF00",
           "#00FF00",
           "#00FF00",
           "#FF0000",
           "#FF0000",
           "#FF0000",
           "#00FF00",
           "#FF0000",
           "#FF0000",
           "#00FF00",
           "#00FF00",
           "#00FF00",
           "#FF0000",
           "#FF0000",
           "#00FF00",
           "#FF0000",
           "#00FF00",
           "#FF0000",
           "#FF0000",
           "#00FF00",
           "#FF0000",
           "#FF0000",
           "#00FF00",
           "#00FF00",
           "#FF0000",
           "#00FF00",
           "#00FF00",
           "#FF0000",
           "#00FF00",
           "#00FF00",
           "#00FF00",
           "#00FF00",
           "#FF0000",
           "#00FF00",
           "#00FF00",
           "#00FF00",
           "#00FF00",
           "#00FF00",
           "#00FF00",
           "#00FF00",
           "#00FF00",
           "#00FF00",
           "#FF0000",
           "#00FF00",
           "#00FF00",
           "#00FF00",
           "#00FF00",
           "#FF0000",
           "#FF0000",
           "#00FF00",
           "#FF0000",
           "#00FF00",
           "#00FF00",
           "#FF0000",
           "#FF0000",
           "#00FF00",
           "#00FF00",
           "#FF0000",
           "#FF0000",
           "#00FF00",
           "#00FF00",
           "#00FF00",
           "#00FF00",
           "#FF0000",
           "#00FF00",
           "#00FF00",
           "#FF0000",
           "#FF0000",
           "#FF0000",
           "#00FF00",
           "#FF0000",
           "#00FF00",
           "#FF0000",
           "#00FF00",
           "#00FF00",
           "#00FF00",
           "#FF0000",
           "#00FF00",
           "#00FF00",
           "#FF0000",
           "#FF0000",
           "#00FF00",
           "#FF0000",
           "#FF0000",
           "#FF0000",
           "#FF0000",
           "#00FF00",
           "#FF0000",
           "#FF0000",
           "#FF0000",
           "#00FF00",
           "#FF0000",
           "#00FF00",
           "#FF0000",
           "#00FF00",
           "#00FF00",
           "#FF0000",
           "#00FF00",
           "#FF0000",
           "#FF0000",
           "#FF0000",
           "#FF0000",
           "#00FF00",
           "#00FF00",
           "#FF0000",
           "#FF0000",
           "#00FF00",
           "#00FF00",
           "#00FF00",
           "#FF0000",
           "#00FF00",
           "#00FF00",
           "#00FF00",
           "#00FF00",
           "#00FF00",
           "#FF0000",
           "#FF0000",
           "#00FF00",
           "#00FF00",
           "#FF0000",
           "#00FF00",
           "#00FF00",
           "#FF0000",
           "#FF0000",
           "#00FF00",
           "#FF0000",
           "#00FF00",
           "#00FF00",
           "#00FF00",
           "#00FF00",
           "#FF0000",
           "#00FF00",
           "#00FF00",
           "#00FF00",
           "#00FF00",
           "#00FF00",
           "#FF0000",
           "#00FF00",
           "#FF0000",
           "#FF0000",
           "#FF0000",
           "#FF0000",
           "#FF0000",
           "#FF0000",
           "#FF0000",
           "#FF0000",
           "#FF0000",
           "#FF0000",
           "#FF0000",
           "#FF0000",
           "#FF0000",
           "#FF0000",
           "#00FF00",
           "#00FF00",
           "#00FF00",
           "#00FF00",
           "#00FF00",
           "#00FF00",
           "#FF0000",
           "#00FF00",
           "#FF0000",
           "#00FF00",
           "#00FF00",
           "#FF0000",
           "#00FF00",
           "#00FF00",
           "#FF0000",
           "#00FF00",
           "#FF0000",
           "#FF0000",
           "#00FF00",
           "#00FF00",
           "#00FF00",
           "#00FF00",
           "#00FF00",
           "#00FF00",
           "#00FF00",
           "#00FF00",
           "#00FF00",
           "#00FF00",
           "#00FF00",
           "#00FF00",
           "#00FF00",
           "#FF0000",
           "#00FF00",
           "#00FF00",
           "#FF0000",
           "#00FF00",
           "#FF0000",
           "#00FF00",
           "#00FF00",
           "#00FF00",
           "#00FF00",
           "#00FF00",
           "#00FF00",
           "#00FF00",
           "#00FF00",
           "#00FF00",
           "#00FF00",
           "#00FF00",
           "#00FF00",
           "#00FF00",
           "#00FF00",
           "#FF0000",
           "#00FF00",
           "#00FF00",
           "#00FF00",
           "#FF0000",
           "#00FF00",
           "#FF0000",
           "#00FF00",
           "#00FF00",
           "#00FF00",
           "#00FF00",
           "#FF0000",
           "#FF0000",
           "#FF0000",
           "#00FF00",
           "#00FF00",
           "#00FF00",
           "#00FF00",
           "#FF0000",
           "#00FF00",
           "#FF0000",
           "#00FF00",
           "#FF0000",
           "#00FF00",
           "#00FF00",
           "#00FF00",
           "#FF0000",
           "#00FF00",
           "#00FF00",
           "#00FF00",
           "#00FF00",
           "#00FF00",
           "#00FF00",
           "#00FF00",
           "#FF0000",
           "#FF0000",
           "#FF0000",
           "#00FF00",
           "#00FF00",
           "#00FF00",
           "#00FF00",
           "#00FF00",
           "#00FF00",
           "#00FF00",
           "#00FF00",
           "#00FF00",
           "#00FF00",
           "#00FF00",
           "#FF0000",
           "#FF0000",
           "#00FF00",
           "#FF0000",
           "#FF0000",
           "#FF0000",
           "#00FF00",
           "#FF0000",
           "#FF0000",
           "#00FF00",
           "#00FF00",
           "#00FF00",
           "#00FF00",
           "#00FF00",
           "#FF0000",
           "#00FF00",
           "#00FF00",
           "#00FF00",
           "#00FF00",
           "#00FF00",
           "#FF0000",
           "#00FF00",
           "#00FF00",
           "#00FF00",
           "#FF0000",
           "#00FF00",
           "#00FF00",
           "#FF0000",
           "#FF0000",
           "#00FF00",
           "#00FF00",
           "#00FF00",
           "#00FF00",
           "#00FF00",
           "#00FF00",
           "#FF0000",
           "#00FF00",
           "#00FF00",
           "#00FF00",
           "#00FF00",
           "#00FF00",
           "#00FF00",
           "#00FF00",
           "#FF0000",
           "#00FF00",
           "#00FF00",
           "#00FF00",
           "#00FF00",
           "#00FF00",
           "#FF0000",
           "#00FF00",
           "#00FF00",
           "#FF0000",
           "#00FF00",
           "#00FF00",
           "#00FF00",
           "#00FF00",
           "#00FF00",
           "#00FF00",
           "#00FF00",
           "#00FF00",
           "#00FF00",
           "#00FF00",
           "#00FF00",
           "#00FF00",
           "#FF0000",
           "#00FF00",
           "#FF0000",
           "#FF0000",
           "#00FF00",
           "#FF0000",
           "#00FF00",
           "#00FF00",
           "#00FF00",
           "#00FF00",
           "#00FF00",
           "#FF0000",
           "#00FF00",
           "#00FF00",
           "#FF0000",
           "#00FF00",
           "#FF0000",
           "#00FF00",
           "#00FF00",
           "#FF0000",
           "#00FF00",
           "#FF0000",
           "#00FF00",
           "#00FF00",
           "#00FF00",
           "#00FF00",
           "#00FF00",
           "#00FF00",
           "#00FF00",
           "#00FF00",
           "#FF0000",
           "#FF0000",
           "#00FF00",
           "#00FF00",
           "#00FF00",
           "#00FF00",
           "#00FF00",
           "#00FF00",
           "#FF0000",
           "#00FF00",
           "#00FF00",
           "#00FF00",
           "#00FF00",
           "#00FF00",
           "#00FF00",
           "#00FF00",
           "#00FF00",
           "#00FF00",
           "#00FF00",
           "#FF0000",
           "#00FF00",
           "#00FF00",
           "#00FF00",
           "#00FF00",
           "#00FF00",
           "#00FF00",
           "#00FF00",
           "#FF0000",
           "#00FF00",
           "#FF0000",
           "#00FF00",
           "#00FF00",
           "#FF0000",
           "#00FF00",
           "#00FF00",
           "#00FF00",
           "#00FF00",
           "#00FF00",
           "#FF0000",
           "#FF0000",
           "#00FF00",
           "#FF0000",
           "#00FF00",
           "#FF0000",
           "#00FF00",
           "#00FF00",
           "#00FF00",
           "#00FF00",
           "#00FF00",
           "#FF0000",
           "#00FF00",
           "#00FF00",
           "#FF0000",
           "#00FF00",
           "#FF0000",
           "#00FF00",
           "#FF0000",
           "#FF0000",
           "#00FF00",
           "#00FF00",
           "#00FF00",
           "#FF0000",
           "#00FF00",
           "#00FF00",
           "#00FF00",
           "#00FF00",
           "#00FF00",
           "#00FF00",
           "#00FF00",
           "#00FF00",
           "#00FF00",
           "#00FF00",
           "#00FF00",
           "#FF0000",
           "#00FF00",
           "#FF0000",
           "#FF0000",
           "#00FF00",
           "#00FF00",
           "#00FF00",
           "#00FF00",
           "#00FF00",
           "#00FF00",
           "#00FF00",
           "#00FF00",
           "#00FF00",
           "#00FF00",
           "#00FF00",
           "#00FF00",
           "#00FF00",
           "#00FF00",
           "#00FF00",
           "#00FF00",
           "#00FF00",
           "#00FF00",
           "#00FF00",
           "#00FF00",
           "#00FF00",
           "#00FF00",
           "#00FF00",
           "#00FF00",
           "#00FF00",
           "#FF0000",
           "#FF0000",
           "#FF0000",
           "#FF0000",
           "#FF0000",
           "#FF0000",
           "#00FF00"
          ]
         },
         "name": "",
         "showlegend": true,
         "type": "pie"
        }
       ],
       "layout": {
        "legend": {
         "tracegroupgap": 0
        },
        "piecolorway": [
         "#FF0000",
         "#00FF00"
        ],
        "template": {
         "data": {
          "bar": [
           {
            "error_x": {
             "color": "#2a3f5f"
            },
            "error_y": {
             "color": "#2a3f5f"
            },
            "marker": {
             "line": {
              "color": "#E5ECF6",
              "width": 0.5
             },
             "pattern": {
              "fillmode": "overlay",
              "size": 10,
              "solidity": 0.2
             }
            },
            "type": "bar"
           }
          ],
          "barpolar": [
           {
            "marker": {
             "line": {
              "color": "#E5ECF6",
              "width": 0.5
             },
             "pattern": {
              "fillmode": "overlay",
              "size": 10,
              "solidity": 0.2
             }
            },
            "type": "barpolar"
           }
          ],
          "carpet": [
           {
            "aaxis": {
             "endlinecolor": "#2a3f5f",
             "gridcolor": "white",
             "linecolor": "white",
             "minorgridcolor": "white",
             "startlinecolor": "#2a3f5f"
            },
            "baxis": {
             "endlinecolor": "#2a3f5f",
             "gridcolor": "white",
             "linecolor": "white",
             "minorgridcolor": "white",
             "startlinecolor": "#2a3f5f"
            },
            "type": "carpet"
           }
          ],
          "choropleth": [
           {
            "colorbar": {
             "outlinewidth": 0,
             "ticks": ""
            },
            "type": "choropleth"
           }
          ],
          "contour": [
           {
            "colorbar": {
             "outlinewidth": 0,
             "ticks": ""
            },
            "colorscale": [
             [
              0,
              "#0d0887"
             ],
             [
              0.1111111111111111,
              "#46039f"
             ],
             [
              0.2222222222222222,
              "#7201a8"
             ],
             [
              0.3333333333333333,
              "#9c179e"
             ],
             [
              0.4444444444444444,
              "#bd3786"
             ],
             [
              0.5555555555555556,
              "#d8576b"
             ],
             [
              0.6666666666666666,
              "#ed7953"
             ],
             [
              0.7777777777777778,
              "#fb9f3a"
             ],
             [
              0.8888888888888888,
              "#fdca26"
             ],
             [
              1,
              "#f0f921"
             ]
            ],
            "type": "contour"
           }
          ],
          "contourcarpet": [
           {
            "colorbar": {
             "outlinewidth": 0,
             "ticks": ""
            },
            "type": "contourcarpet"
           }
          ],
          "heatmap": [
           {
            "colorbar": {
             "outlinewidth": 0,
             "ticks": ""
            },
            "colorscale": [
             [
              0,
              "#0d0887"
             ],
             [
              0.1111111111111111,
              "#46039f"
             ],
             [
              0.2222222222222222,
              "#7201a8"
             ],
             [
              0.3333333333333333,
              "#9c179e"
             ],
             [
              0.4444444444444444,
              "#bd3786"
             ],
             [
              0.5555555555555556,
              "#d8576b"
             ],
             [
              0.6666666666666666,
              "#ed7953"
             ],
             [
              0.7777777777777778,
              "#fb9f3a"
             ],
             [
              0.8888888888888888,
              "#fdca26"
             ],
             [
              1,
              "#f0f921"
             ]
            ],
            "type": "heatmap"
           }
          ],
          "histogram": [
           {
            "marker": {
             "pattern": {
              "fillmode": "overlay",
              "size": 10,
              "solidity": 0.2
             }
            },
            "type": "histogram"
           }
          ],
          "histogram2d": [
           {
            "colorbar": {
             "outlinewidth": 0,
             "ticks": ""
            },
            "colorscale": [
             [
              0,
              "#0d0887"
             ],
             [
              0.1111111111111111,
              "#46039f"
             ],
             [
              0.2222222222222222,
              "#7201a8"
             ],
             [
              0.3333333333333333,
              "#9c179e"
             ],
             [
              0.4444444444444444,
              "#bd3786"
             ],
             [
              0.5555555555555556,
              "#d8576b"
             ],
             [
              0.6666666666666666,
              "#ed7953"
             ],
             [
              0.7777777777777778,
              "#fb9f3a"
             ],
             [
              0.8888888888888888,
              "#fdca26"
             ],
             [
              1,
              "#f0f921"
             ]
            ],
            "type": "histogram2d"
           }
          ],
          "histogram2dcontour": [
           {
            "colorbar": {
             "outlinewidth": 0,
             "ticks": ""
            },
            "colorscale": [
             [
              0,
              "#0d0887"
             ],
             [
              0.1111111111111111,
              "#46039f"
             ],
             [
              0.2222222222222222,
              "#7201a8"
             ],
             [
              0.3333333333333333,
              "#9c179e"
             ],
             [
              0.4444444444444444,
              "#bd3786"
             ],
             [
              0.5555555555555556,
              "#d8576b"
             ],
             [
              0.6666666666666666,
              "#ed7953"
             ],
             [
              0.7777777777777778,
              "#fb9f3a"
             ],
             [
              0.8888888888888888,
              "#fdca26"
             ],
             [
              1,
              "#f0f921"
             ]
            ],
            "type": "histogram2dcontour"
           }
          ],
          "mesh3d": [
           {
            "colorbar": {
             "outlinewidth": 0,
             "ticks": ""
            },
            "type": "mesh3d"
           }
          ],
          "parcoords": [
           {
            "line": {
             "colorbar": {
              "outlinewidth": 0,
              "ticks": ""
             }
            },
            "type": "parcoords"
           }
          ],
          "pie": [
           {
            "automargin": true,
            "type": "pie"
           }
          ],
          "scatter": [
           {
            "fillpattern": {
             "fillmode": "overlay",
             "size": 10,
             "solidity": 0.2
            },
            "type": "scatter"
           }
          ],
          "scatter3d": [
           {
            "line": {
             "colorbar": {
              "outlinewidth": 0,
              "ticks": ""
             }
            },
            "marker": {
             "colorbar": {
              "outlinewidth": 0,
              "ticks": ""
             }
            },
            "type": "scatter3d"
           }
          ],
          "scattercarpet": [
           {
            "marker": {
             "colorbar": {
              "outlinewidth": 0,
              "ticks": ""
             }
            },
            "type": "scattercarpet"
           }
          ],
          "scattergeo": [
           {
            "marker": {
             "colorbar": {
              "outlinewidth": 0,
              "ticks": ""
             }
            },
            "type": "scattergeo"
           }
          ],
          "scattergl": [
           {
            "marker": {
             "colorbar": {
              "outlinewidth": 0,
              "ticks": ""
             }
            },
            "type": "scattergl"
           }
          ],
          "scattermap": [
           {
            "marker": {
             "colorbar": {
              "outlinewidth": 0,
              "ticks": ""
             }
            },
            "type": "scattermap"
           }
          ],
          "scattermapbox": [
           {
            "marker": {
             "colorbar": {
              "outlinewidth": 0,
              "ticks": ""
             }
            },
            "type": "scattermapbox"
           }
          ],
          "scatterpolar": [
           {
            "marker": {
             "colorbar": {
              "outlinewidth": 0,
              "ticks": ""
             }
            },
            "type": "scatterpolar"
           }
          ],
          "scatterpolargl": [
           {
            "marker": {
             "colorbar": {
              "outlinewidth": 0,
              "ticks": ""
             }
            },
            "type": "scatterpolargl"
           }
          ],
          "scatterternary": [
           {
            "marker": {
             "colorbar": {
              "outlinewidth": 0,
              "ticks": ""
             }
            },
            "type": "scatterternary"
           }
          ],
          "surface": [
           {
            "colorbar": {
             "outlinewidth": 0,
             "ticks": ""
            },
            "colorscale": [
             [
              0,
              "#0d0887"
             ],
             [
              0.1111111111111111,
              "#46039f"
             ],
             [
              0.2222222222222222,
              "#7201a8"
             ],
             [
              0.3333333333333333,
              "#9c179e"
             ],
             [
              0.4444444444444444,
              "#bd3786"
             ],
             [
              0.5555555555555556,
              "#d8576b"
             ],
             [
              0.6666666666666666,
              "#ed7953"
             ],
             [
              0.7777777777777778,
              "#fb9f3a"
             ],
             [
              0.8888888888888888,
              "#fdca26"
             ],
             [
              1,
              "#f0f921"
             ]
            ],
            "type": "surface"
           }
          ],
          "table": [
           {
            "cells": {
             "fill": {
              "color": "#EBF0F8"
             },
             "line": {
              "color": "white"
             }
            },
            "header": {
             "fill": {
              "color": "#C8D4E3"
             },
             "line": {
              "color": "white"
             }
            },
            "type": "table"
           }
          ]
         },
         "layout": {
          "annotationdefaults": {
           "arrowcolor": "#2a3f5f",
           "arrowhead": 0,
           "arrowwidth": 1
          },
          "autotypenumbers": "strict",
          "coloraxis": {
           "colorbar": {
            "outlinewidth": 0,
            "ticks": ""
           }
          },
          "colorscale": {
           "diverging": [
            [
             0,
             "#8e0152"
            ],
            [
             0.1,
             "#c51b7d"
            ],
            [
             0.2,
             "#de77ae"
            ],
            [
             0.3,
             "#f1b6da"
            ],
            [
             0.4,
             "#fde0ef"
            ],
            [
             0.5,
             "#f7f7f7"
            ],
            [
             0.6,
             "#e6f5d0"
            ],
            [
             0.7,
             "#b8e186"
            ],
            [
             0.8,
             "#7fbc41"
            ],
            [
             0.9,
             "#4d9221"
            ],
            [
             1,
             "#276419"
            ]
           ],
           "sequential": [
            [
             0,
             "#0d0887"
            ],
            [
             0.1111111111111111,
             "#46039f"
            ],
            [
             0.2222222222222222,
             "#7201a8"
            ],
            [
             0.3333333333333333,
             "#9c179e"
            ],
            [
             0.4444444444444444,
             "#bd3786"
            ],
            [
             0.5555555555555556,
             "#d8576b"
            ],
            [
             0.6666666666666666,
             "#ed7953"
            ],
            [
             0.7777777777777778,
             "#fb9f3a"
            ],
            [
             0.8888888888888888,
             "#fdca26"
            ],
            [
             1,
             "#f0f921"
            ]
           ],
           "sequentialminus": [
            [
             0,
             "#0d0887"
            ],
            [
             0.1111111111111111,
             "#46039f"
            ],
            [
             0.2222222222222222,
             "#7201a8"
            ],
            [
             0.3333333333333333,
             "#9c179e"
            ],
            [
             0.4444444444444444,
             "#bd3786"
            ],
            [
             0.5555555555555556,
             "#d8576b"
            ],
            [
             0.6666666666666666,
             "#ed7953"
            ],
            [
             0.7777777777777778,
             "#fb9f3a"
            ],
            [
             0.8888888888888888,
             "#fdca26"
            ],
            [
             1,
             "#f0f921"
            ]
           ]
          },
          "colorway": [
           "#636efa",
           "#EF553B",
           "#00cc96",
           "#ab63fa",
           "#FFA15A",
           "#19d3f3",
           "#FF6692",
           "#B6E880",
           "#FF97FF",
           "#FECB52"
          ],
          "font": {
           "color": "#2a3f5f"
          },
          "geo": {
           "bgcolor": "white",
           "lakecolor": "white",
           "landcolor": "#E5ECF6",
           "showlakes": true,
           "showland": true,
           "subunitcolor": "white"
          },
          "hoverlabel": {
           "align": "left"
          },
          "hovermode": "closest",
          "mapbox": {
           "style": "light"
          },
          "paper_bgcolor": "white",
          "plot_bgcolor": "#E5ECF6",
          "polar": {
           "angularaxis": {
            "gridcolor": "white",
            "linecolor": "white",
            "ticks": ""
           },
           "bgcolor": "#E5ECF6",
           "radialaxis": {
            "gridcolor": "white",
            "linecolor": "white",
            "ticks": ""
           }
          },
          "scene": {
           "xaxis": {
            "backgroundcolor": "#E5ECF6",
            "gridcolor": "white",
            "gridwidth": 2,
            "linecolor": "white",
            "showbackground": true,
            "ticks": "",
            "zerolinecolor": "white"
           },
           "yaxis": {
            "backgroundcolor": "#E5ECF6",
            "gridcolor": "white",
            "gridwidth": 2,
            "linecolor": "white",
            "showbackground": true,
            "ticks": "",
            "zerolinecolor": "white"
           },
           "zaxis": {
            "backgroundcolor": "#E5ECF6",
            "gridcolor": "white",
            "gridwidth": 2,
            "linecolor": "white",
            "showbackground": true,
            "ticks": "",
            "zerolinecolor": "white"
           }
          },
          "shapedefaults": {
           "line": {
            "color": "#2a3f5f"
           }
          },
          "ternary": {
           "aaxis": {
            "gridcolor": "white",
            "linecolor": "white",
            "ticks": ""
           },
           "baxis": {
            "gridcolor": "white",
            "linecolor": "white",
            "ticks": ""
           },
           "bgcolor": "#E5ECF6",
           "caxis": {
            "gridcolor": "white",
            "linecolor": "white",
            "ticks": ""
           }
          },
          "title": {
           "x": 0.05
          },
          "xaxis": {
           "automargin": true,
           "gridcolor": "white",
           "linecolor": "white",
           "ticks": "",
           "title": {
            "standoff": 15
           },
           "zerolinecolor": "white",
           "zerolinewidth": 2
          },
          "yaxis": {
           "automargin": true,
           "gridcolor": "white",
           "linecolor": "white",
           "ticks": "",
           "title": {
            "standoff": 15
           },
           "zerolinecolor": "white",
           "zerolinewidth": 2
          }
         }
        },
        "title": {
         "text": "Distribution of Diagnosis"
        }
       }
      }
     },
     "metadata": {},
     "output_type": "display_data"
    }
   ],
   "source": [
    "# Step 1 :\n",
    "'''\n",
    "Output label / Target variable / Y- label : Check the data distribution\n",
    "    look whether the data is balanced or imbalanced\n",
    "'''\n",
    "# pie plot : proportion of M v/s B\n",
    "\n",
    "px.pie(df,\n",
    "       names='diagnosis',\n",
    "       color='diagnosis',\n",
    "       color_discrete_sequence=['#FF0000', '#00FF00'],\n",
    "       title='Distribution of Diagnosis')\n",
    "\n",
    "# Inferences :\n",
    "\n",
    "# The dataset is imbalanced. (M : B = 63 : 37 )\n",
    "# There are more cases of benign trmors (B) than malignant tumors (M).\n",
    "# For imbalanced datasets, accuracy can be a misleading metric.\n",
    "# For example, if 90% of the data is benign (B) and 10% is malignant (M),\n",
    "# a model that predicts all cases as benign would achieve 90% accuracy, but it would fail to identify any malignant cases."
   ]
  },
  {
   "cell_type": "code",
   "execution_count": 8,
   "id": "9ea5132f",
   "metadata": {},
   "outputs": [
    {
     "data": {
      "application/vnd.plotly.v1+json": {
       "config": {
        "plotlyServerURL": "https://plot.ly"
       },
       "data": [
        {
         "alignmentgroup": "True",
         "hovertemplate": "diagnosis=%{x}<br>radius_mean=%{y}<extra></extra>",
         "legendgroup": "M",
         "marker": {
          "color": "#FF0000"
         },
         "name": "M",
         "notched": false,
         "offsetgroup": "M",
         "orientation": "v",
         "showlegend": true,
         "type": "box",
         "x": [
          "M",
          "M",
          "M",
          "M",
          "M",
          "M",
          "M",
          "M",
          "M",
          "M",
          "M",
          "M",
          "M",
          "M",
          "M",
          "M",
          "M",
          "M",
          "M",
          "M",
          "M",
          "M",
          "M",
          "M",
          "M",
          "M",
          "M",
          "M",
          "M",
          "M",
          "M",
          "M",
          "M",
          "M",
          "M",
          "M",
          "M",
          "M",
          "M",
          "M",
          "M",
          "M",
          "M",
          "M",
          "M",
          "M",
          "M",
          "M",
          "M",
          "M",
          "M",
          "M",
          "M",
          "M",
          "M",
          "M",
          "M",
          "M",
          "M",
          "M",
          "M",
          "M",
          "M",
          "M",
          "M",
          "M",
          "M",
          "M",
          "M",
          "M",
          "M",
          "M",
          "M",
          "M",
          "M",
          "M",
          "M",
          "M",
          "M",
          "M",
          "M",
          "M",
          "M",
          "M",
          "M",
          "M",
          "M",
          "M",
          "M",
          "M",
          "M",
          "M",
          "M",
          "M",
          "M",
          "M",
          "M",
          "M",
          "M",
          "M",
          "M",
          "M",
          "M",
          "M",
          "M",
          "M",
          "M",
          "M",
          "M",
          "M",
          "M",
          "M",
          "M",
          "M",
          "M",
          "M",
          "M",
          "M",
          "M",
          "M",
          "M",
          "M",
          "M",
          "M",
          "M",
          "M",
          "M",
          "M",
          "M",
          "M",
          "M",
          "M",
          "M",
          "M",
          "M",
          "M",
          "M",
          "M",
          "M",
          "M",
          "M",
          "M",
          "M",
          "M",
          "M",
          "M",
          "M",
          "M",
          "M",
          "M",
          "M",
          "M",
          "M",
          "M",
          "M",
          "M",
          "M",
          "M",
          "M",
          "M",
          "M",
          "M",
          "M",
          "M",
          "M",
          "M",
          "M",
          "M",
          "M",
          "M",
          "M",
          "M",
          "M",
          "M",
          "M",
          "M",
          "M",
          "M",
          "M",
          "M",
          "M",
          "M",
          "M",
          "M",
          "M",
          "M",
          "M",
          "M",
          "M",
          "M",
          "M",
          "M",
          "M",
          "M",
          "M",
          "M",
          "M",
          "M",
          "M",
          "M",
          "M",
          "M",
          "M",
          "M",
          "M",
          "M",
          "M",
          "M",
          "M",
          "M",
          "M",
          "M"
         ],
         "x0": " ",
         "xaxis": "x",
         "y": {
          "bdata": "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",
          "dtype": "f8"
         },
         "y0": " ",
         "yaxis": "y"
        },
        {
         "alignmentgroup": "True",
         "hovertemplate": "diagnosis=%{x}<br>radius_mean=%{y}<extra></extra>",
         "legendgroup": "B",
         "marker": {
          "color": "#00FF00"
         },
         "name": "B",
         "notched": false,
         "offsetgroup": "B",
         "orientation": "v",
         "showlegend": true,
         "type": "box",
         "x": [
          "B",
          "B",
          "B",
          "B",
          "B",
          "B",
          "B",
          "B",
          "B",
          "B",
          "B",
          "B",
          "B",
          "B",
          "B",
          "B",
          "B",
          "B",
          "B",
          "B",
          "B",
          "B",
          "B",
          "B",
          "B",
          "B",
          "B",
          "B",
          "B",
          "B",
          "B",
          "B",
          "B",
          "B",
          "B",
          "B",
          "B",
          "B",
          "B",
          "B",
          "B",
          "B",
          "B",
          "B",
          "B",
          "B",
          "B",
          "B",
          "B",
          "B",
          "B",
          "B",
          "B",
          "B",
          "B",
          "B",
          "B",
          "B",
          "B",
          "B",
          "B",
          "B",
          "B",
          "B",
          "B",
          "B",
          "B",
          "B",
          "B",
          "B",
          "B",
          "B",
          "B",
          "B",
          "B",
          "B",
          "B",
          "B",
          "B",
          "B",
          "B",
          "B",
          "B",
          "B",
          "B",
          "B",
          "B",
          "B",
          "B",
          "B",
          "B",
          "B",
          "B",
          "B",
          "B",
          "B",
          "B",
          "B",
          "B",
          "B",
          "B",
          "B",
          "B",
          "B",
          "B",
          "B",
          "B",
          "B",
          "B",
          "B",
          "B",
          "B",
          "B",
          "B",
          "B",
          "B",
          "B",
          "B",
          "B",
          "B",
          "B",
          "B",
          "B",
          "B",
          "B",
          "B",
          "B",
          "B",
          "B",
          "B",
          "B",
          "B",
          "B",
          "B",
          "B",
          "B",
          "B",
          "B",
          "B",
          "B",
          "B",
          "B",
          "B",
          "B",
          "B",
          "B",
          "B",
          "B",
          "B",
          "B",
          "B",
          "B",
          "B",
          "B",
          "B",
          "B",
          "B",
          "B",
          "B",
          "B",
          "B",
          "B",
          "B",
          "B",
          "B",
          "B",
          "B",
          "B",
          "B",
          "B",
          "B",
          "B",
          "B",
          "B",
          "B",
          "B",
          "B",
          "B",
          "B",
          "B",
          "B",
          "B",
          "B",
          "B",
          "B",
          "B",
          "B",
          "B",
          "B",
          "B",
          "B",
          "B",
          "B",
          "B",
          "B",
          "B",
          "B",
          "B",
          "B",
          "B",
          "B",
          "B",
          "B",
          "B",
          "B",
          "B",
          "B",
          "B",
          "B",
          "B",
          "B",
          "B",
          "B",
          "B",
          "B",
          "B",
          "B",
          "B",
          "B",
          "B",
          "B",
          "B",
          "B",
          "B",
          "B",
          "B",
          "B",
          "B",
          "B",
          "B",
          "B",
          "B",
          "B",
          "B",
          "B",
          "B",
          "B",
          "B",
          "B",
          "B",
          "B",
          "B",
          "B",
          "B",
          "B",
          "B",
          "B",
          "B",
          "B",
          "B",
          "B",
          "B",
          "B",
          "B",
          "B",
          "B",
          "B",
          "B",
          "B",
          "B",
          "B",
          "B",
          "B",
          "B",
          "B",
          "B",
          "B",
          "B",
          "B",
          "B",
          "B",
          "B",
          "B",
          "B",
          "B",
          "B",
          "B",
          "B",
          "B",
          "B",
          "B",
          "B",
          "B",
          "B",
          "B",
          "B",
          "B",
          "B",
          "B",
          "B",
          "B",
          "B",
          "B",
          "B",
          "B",
          "B",
          "B",
          "B",
          "B",
          "B",
          "B",
          "B",
          "B",
          "B",
          "B",
          "B",
          "B",
          "B",
          "B",
          "B",
          "B",
          "B",
          "B",
          "B",
          "B",
          "B",
          "B",
          "B",
          "B",
          "B",
          "B",
          "B",
          "B",
          "B",
          "B",
          "B",
          "B",
          "B",
          "B",
          "B",
          "B",
          "B",
          "B",
          "B",
          "B",
          "B",
          "B",
          "B",
          "B",
          "B",
          "B",
          "B",
          "B",
          "B",
          "B",
          "B",
          "B",
          "B",
          "B",
          "B",
          "B",
          "B",
          "B",
          "B",
          "B",
          "B",
          "B"
         ],
         "x0": " ",
         "xaxis": "x",
         "y": {
          "bdata": "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",
          "dtype": "f8"
         },
         "y0": " ",
         "yaxis": "y"
        }
       ],
       "layout": {
        "boxmode": "overlay",
        "legend": {
         "title": {
          "text": "diagnosis"
         },
         "tracegroupgap": 0
        },
        "margin": {
         "t": 60
        },
        "template": {
         "data": {
          "bar": [
           {
            "error_x": {
             "color": "#2a3f5f"
            },
            "error_y": {
             "color": "#2a3f5f"
            },
            "marker": {
             "line": {
              "color": "#E5ECF6",
              "width": 0.5
             },
             "pattern": {
              "fillmode": "overlay",
              "size": 10,
              "solidity": 0.2
             }
            },
            "type": "bar"
           }
          ],
          "barpolar": [
           {
            "marker": {
             "line": {
              "color": "#E5ECF6",
              "width": 0.5
             },
             "pattern": {
              "fillmode": "overlay",
              "size": 10,
              "solidity": 0.2
             }
            },
            "type": "barpolar"
           }
          ],
          "carpet": [
           {
            "aaxis": {
             "endlinecolor": "#2a3f5f",
             "gridcolor": "white",
             "linecolor": "white",
             "minorgridcolor": "white",
             "startlinecolor": "#2a3f5f"
            },
            "baxis": {
             "endlinecolor": "#2a3f5f",
             "gridcolor": "white",
             "linecolor": "white",
             "minorgridcolor": "white",
             "startlinecolor": "#2a3f5f"
            },
            "type": "carpet"
           }
          ],
          "choropleth": [
           {
            "colorbar": {
             "outlinewidth": 0,
             "ticks": ""
            },
            "type": "choropleth"
           }
          ],
          "contour": [
           {
            "colorbar": {
             "outlinewidth": 0,
             "ticks": ""
            },
            "colorscale": [
             [
              0,
              "#0d0887"
             ],
             [
              0.1111111111111111,
              "#46039f"
             ],
             [
              0.2222222222222222,
              "#7201a8"
             ],
             [
              0.3333333333333333,
              "#9c179e"
             ],
             [
              0.4444444444444444,
              "#bd3786"
             ],
             [
              0.5555555555555556,
              "#d8576b"
             ],
             [
              0.6666666666666666,
              "#ed7953"
             ],
             [
              0.7777777777777778,
              "#fb9f3a"
             ],
             [
              0.8888888888888888,
              "#fdca26"
             ],
             [
              1,
              "#f0f921"
             ]
            ],
            "type": "contour"
           }
          ],
          "contourcarpet": [
           {
            "colorbar": {
             "outlinewidth": 0,
             "ticks": ""
            },
            "type": "contourcarpet"
           }
          ],
          "heatmap": [
           {
            "colorbar": {
             "outlinewidth": 0,
             "ticks": ""
            },
            "colorscale": [
             [
              0,
              "#0d0887"
             ],
             [
              0.1111111111111111,
              "#46039f"
             ],
             [
              0.2222222222222222,
              "#7201a8"
             ],
             [
              0.3333333333333333,
              "#9c179e"
             ],
             [
              0.4444444444444444,
              "#bd3786"
             ],
             [
              0.5555555555555556,
              "#d8576b"
             ],
             [
              0.6666666666666666,
              "#ed7953"
             ],
             [
              0.7777777777777778,
              "#fb9f3a"
             ],
             [
              0.8888888888888888,
              "#fdca26"
             ],
             [
              1,
              "#f0f921"
             ]
            ],
            "type": "heatmap"
           }
          ],
          "histogram": [
           {
            "marker": {
             "pattern": {
              "fillmode": "overlay",
              "size": 10,
              "solidity": 0.2
             }
            },
            "type": "histogram"
           }
          ],
          "histogram2d": [
           {
            "colorbar": {
             "outlinewidth": 0,
             "ticks": ""
            },
            "colorscale": [
             [
              0,
              "#0d0887"
             ],
             [
              0.1111111111111111,
              "#46039f"
             ],
             [
              0.2222222222222222,
              "#7201a8"
             ],
             [
              0.3333333333333333,
              "#9c179e"
             ],
             [
              0.4444444444444444,
              "#bd3786"
             ],
             [
              0.5555555555555556,
              "#d8576b"
             ],
             [
              0.6666666666666666,
              "#ed7953"
             ],
             [
              0.7777777777777778,
              "#fb9f3a"
             ],
             [
              0.8888888888888888,
              "#fdca26"
             ],
             [
              1,
              "#f0f921"
             ]
            ],
            "type": "histogram2d"
           }
          ],
          "histogram2dcontour": [
           {
            "colorbar": {
             "outlinewidth": 0,
             "ticks": ""
            },
            "colorscale": [
             [
              0,
              "#0d0887"
             ],
             [
              0.1111111111111111,
              "#46039f"
             ],
             [
              0.2222222222222222,
              "#7201a8"
             ],
             [
              0.3333333333333333,
              "#9c179e"
             ],
             [
              0.4444444444444444,
              "#bd3786"
             ],
             [
              0.5555555555555556,
              "#d8576b"
             ],
             [
              0.6666666666666666,
              "#ed7953"
             ],
             [
              0.7777777777777778,
              "#fb9f3a"
             ],
             [
              0.8888888888888888,
              "#fdca26"
             ],
             [
              1,
              "#f0f921"
             ]
            ],
            "type": "histogram2dcontour"
           }
          ],
          "mesh3d": [
           {
            "colorbar": {
             "outlinewidth": 0,
             "ticks": ""
            },
            "type": "mesh3d"
           }
          ],
          "parcoords": [
           {
            "line": {
             "colorbar": {
              "outlinewidth": 0,
              "ticks": ""
             }
            },
            "type": "parcoords"
           }
          ],
          "pie": [
           {
            "automargin": true,
            "type": "pie"
           }
          ],
          "scatter": [
           {
            "fillpattern": {
             "fillmode": "overlay",
             "size": 10,
             "solidity": 0.2
            },
            "type": "scatter"
           }
          ],
          "scatter3d": [
           {
            "line": {
             "colorbar": {
              "outlinewidth": 0,
              "ticks": ""
             }
            },
            "marker": {
             "colorbar": {
              "outlinewidth": 0,
              "ticks": ""
             }
            },
            "type": "scatter3d"
           }
          ],
          "scattercarpet": [
           {
            "marker": {
             "colorbar": {
              "outlinewidth": 0,
              "ticks": ""
             }
            },
            "type": "scattercarpet"
           }
          ],
          "scattergeo": [
           {
            "marker": {
             "colorbar": {
              "outlinewidth": 0,
              "ticks": ""
             }
            },
            "type": "scattergeo"
           }
          ],
          "scattergl": [
           {
            "marker": {
             "colorbar": {
              "outlinewidth": 0,
              "ticks": ""
             }
            },
            "type": "scattergl"
           }
          ],
          "scattermap": [
           {
            "marker": {
             "colorbar": {
              "outlinewidth": 0,
              "ticks": ""
             }
            },
            "type": "scattermap"
           }
          ],
          "scattermapbox": [
           {
            "marker": {
             "colorbar": {
              "outlinewidth": 0,
              "ticks": ""
             }
            },
            "type": "scattermapbox"
           }
          ],
          "scatterpolar": [
           {
            "marker": {
             "colorbar": {
              "outlinewidth": 0,
              "ticks": ""
             }
            },
            "type": "scatterpolar"
           }
          ],
          "scatterpolargl": [
           {
            "marker": {
             "colorbar": {
              "outlinewidth": 0,
              "ticks": ""
             }
            },
            "type": "scatterpolargl"
           }
          ],
          "scatterternary": [
           {
            "marker": {
             "colorbar": {
              "outlinewidth": 0,
              "ticks": ""
             }
            },
            "type": "scatterternary"
           }
          ],
          "surface": [
           {
            "colorbar": {
             "outlinewidth": 0,
             "ticks": ""
            },
            "colorscale": [
             [
              0,
              "#0d0887"
             ],
             [
              0.1111111111111111,
              "#46039f"
             ],
             [
              0.2222222222222222,
              "#7201a8"
             ],
             [
              0.3333333333333333,
              "#9c179e"
             ],
             [
              0.4444444444444444,
              "#bd3786"
             ],
             [
              0.5555555555555556,
              "#d8576b"
             ],
             [
              0.6666666666666666,
              "#ed7953"
             ],
             [
              0.7777777777777778,
              "#fb9f3a"
             ],
             [
              0.8888888888888888,
              "#fdca26"
             ],
             [
              1,
              "#f0f921"
             ]
            ],
            "type": "surface"
           }
          ],
          "table": [
           {
            "cells": {
             "fill": {
              "color": "#EBF0F8"
             },
             "line": {
              "color": "white"
             }
            },
            "header": {
             "fill": {
              "color": "#C8D4E3"
             },
             "line": {
              "color": "white"
             }
            },
            "type": "table"
           }
          ]
         },
         "layout": {
          "annotationdefaults": {
           "arrowcolor": "#2a3f5f",
           "arrowhead": 0,
           "arrowwidth": 1
          },
          "autotypenumbers": "strict",
          "coloraxis": {
           "colorbar": {
            "outlinewidth": 0,
            "ticks": ""
           }
          },
          "colorscale": {
           "diverging": [
            [
             0,
             "#8e0152"
            ],
            [
             0.1,
             "#c51b7d"
            ],
            [
             0.2,
             "#de77ae"
            ],
            [
             0.3,
             "#f1b6da"
            ],
            [
             0.4,
             "#fde0ef"
            ],
            [
             0.5,
             "#f7f7f7"
            ],
            [
             0.6,
             "#e6f5d0"
            ],
            [
             0.7,
             "#b8e186"
            ],
            [
             0.8,
             "#7fbc41"
            ],
            [
             0.9,
             "#4d9221"
            ],
            [
             1,
             "#276419"
            ]
           ],
           "sequential": [
            [
             0,
             "#0d0887"
            ],
            [
             0.1111111111111111,
             "#46039f"
            ],
            [
             0.2222222222222222,
             "#7201a8"
            ],
            [
             0.3333333333333333,
             "#9c179e"
            ],
            [
             0.4444444444444444,
             "#bd3786"
            ],
            [
             0.5555555555555556,
             "#d8576b"
            ],
            [
             0.6666666666666666,
             "#ed7953"
            ],
            [
             0.7777777777777778,
             "#fb9f3a"
            ],
            [
             0.8888888888888888,
             "#fdca26"
            ],
            [
             1,
             "#f0f921"
            ]
           ],
           "sequentialminus": [
            [
             0,
             "#0d0887"
            ],
            [
             0.1111111111111111,
             "#46039f"
            ],
            [
             0.2222222222222222,
             "#7201a8"
            ],
            [
             0.3333333333333333,
             "#9c179e"
            ],
            [
             0.4444444444444444,
             "#bd3786"
            ],
            [
             0.5555555555555556,
             "#d8576b"
            ],
            [
             0.6666666666666666,
             "#ed7953"
            ],
            [
             0.7777777777777778,
             "#fb9f3a"
            ],
            [
             0.8888888888888888,
             "#fdca26"
            ],
            [
             1,
             "#f0f921"
            ]
           ]
          },
          "colorway": [
           "#636efa",
           "#EF553B",
           "#00cc96",
           "#ab63fa",
           "#FFA15A",
           "#19d3f3",
           "#FF6692",
           "#B6E880",
           "#FF97FF",
           "#FECB52"
          ],
          "font": {
           "color": "#2a3f5f"
          },
          "geo": {
           "bgcolor": "white",
           "lakecolor": "white",
           "landcolor": "#E5ECF6",
           "showlakes": true,
           "showland": true,
           "subunitcolor": "white"
          },
          "hoverlabel": {
           "align": "left"
          },
          "hovermode": "closest",
          "mapbox": {
           "style": "light"
          },
          "paper_bgcolor": "white",
          "plot_bgcolor": "#E5ECF6",
          "polar": {
           "angularaxis": {
            "gridcolor": "white",
            "linecolor": "white",
            "ticks": ""
           },
           "bgcolor": "#E5ECF6",
           "radialaxis": {
            "gridcolor": "white",
            "linecolor": "white",
            "ticks": ""
           }
          },
          "scene": {
           "xaxis": {
            "backgroundcolor": "#E5ECF6",
            "gridcolor": "white",
            "gridwidth": 2,
            "linecolor": "white",
            "showbackground": true,
            "ticks": "",
            "zerolinecolor": "white"
           },
           "yaxis": {
            "backgroundcolor": "#E5ECF6",
            "gridcolor": "white",
            "gridwidth": 2,
            "linecolor": "white",
            "showbackground": true,
            "ticks": "",
            "zerolinecolor": "white"
           },
           "zaxis": {
            "backgroundcolor": "#E5ECF6",
            "gridcolor": "white",
            "gridwidth": 2,
            "linecolor": "white",
            "showbackground": true,
            "ticks": "",
            "zerolinecolor": "white"
           }
          },
          "shapedefaults": {
           "line": {
            "color": "#2a3f5f"
           }
          },
          "ternary": {
           "aaxis": {
            "gridcolor": "white",
            "linecolor": "white",
            "ticks": ""
           },
           "baxis": {
            "gridcolor": "white",
            "linecolor": "white",
            "ticks": ""
           },
           "bgcolor": "#E5ECF6",
           "caxis": {
            "gridcolor": "white",
            "linecolor": "white",
            "ticks": ""
           }
          },
          "title": {
           "x": 0.05
          },
          "xaxis": {
           "automargin": true,
           "gridcolor": "white",
           "linecolor": "white",
           "ticks": "",
           "title": {
            "standoff": 15
           },
           "zerolinecolor": "white",
           "zerolinewidth": 2
          },
          "yaxis": {
           "automargin": true,
           "gridcolor": "white",
           "linecolor": "white",
           "ticks": "",
           "title": {
            "standoff": 15
           },
           "zerolinecolor": "white",
           "zerolinewidth": 2
          }
         }
        },
        "xaxis": {
         "anchor": "y",
         "categoryarray": [
          "M",
          "B"
         ],
         "categoryorder": "array",
         "domain": [
          0,
          1
         ],
         "title": {
          "text": "diagnosis"
         }
        },
        "yaxis": {
         "anchor": "x",
         "domain": [
          0,
          1
         ],
         "title": {
          "text": "radius_mean"
         }
        }
       }
      }
     },
     "metadata": {},
     "output_type": "display_data"
    },
    {
     "data": {
      "application/vnd.plotly.v1+json": {
       "config": {
        "plotlyServerURL": "https://plot.ly"
       },
       "data": [
        {
         "alignmentgroup": "True",
         "hovertemplate": "diagnosis=%{x}<br>texture_mean=%{y}<extra></extra>",
         "legendgroup": "M",
         "marker": {
          "color": "#FF0000"
         },
         "name": "M",
         "notched": false,
         "offsetgroup": "M",
         "orientation": "v",
         "showlegend": true,
         "type": "box",
         "x": [
          "M",
          "M",
          "M",
          "M",
          "M",
          "M",
          "M",
          "M",
          "M",
          "M",
          "M",
          "M",
          "M",
          "M",
          "M",
          "M",
          "M",
          "M",
          "M",
          "M",
          "M",
          "M",
          "M",
          "M",
          "M",
          "M",
          "M",
          "M",
          "M",
          "M",
          "M",
          "M",
          "M",
          "M",
          "M",
          "M",
          "M",
          "M",
          "M",
          "M",
          "M",
          "M",
          "M",
          "M",
          "M",
          "M",
          "M",
          "M",
          "M",
          "M",
          "M",
          "M",
          "M",
          "M",
          "M",
          "M",
          "M",
          "M",
          "M",
          "M",
          "M",
          "M",
          "M",
          "M",
          "M",
          "M",
          "M",
          "M",
          "M",
          "M",
          "M",
          "M",
          "M",
          "M",
          "M",
          "M",
          "M",
          "M",
          "M",
          "M",
          "M",
          "M",
          "M",
          "M",
          "M",
          "M",
          "M",
          "M",
          "M",
          "M",
          "M",
          "M",
          "M",
          "M",
          "M",
          "M",
          "M",
          "M",
          "M",
          "M",
          "M",
          "M",
          "M",
          "M",
          "M",
          "M",
          "M",
          "M",
          "M",
          "M",
          "M",
          "M",
          "M",
          "M",
          "M",
          "M",
          "M",
          "M",
          "M",
          "M",
          "M",
          "M",
          "M",
          "M",
          "M",
          "M",
          "M",
          "M",
          "M",
          "M",
          "M",
          "M",
          "M",
          "M",
          "M",
          "M",
          "M",
          "M",
          "M",
          "M",
          "M",
          "M",
          "M",
          "M",
          "M",
          "M",
          "M",
          "M",
          "M",
          "M",
          "M",
          "M",
          "M",
          "M",
          "M",
          "M",
          "M",
          "M",
          "M",
          "M",
          "M",
          "M",
          "M",
          "M",
          "M",
          "M",
          "M",
          "M",
          "M",
          "M",
          "M",
          "M",
          "M",
          "M",
          "M",
          "M",
          "M",
          "M",
          "M",
          "M",
          "M",
          "M",
          "M",
          "M",
          "M",
          "M",
          "M",
          "M",
          "M",
          "M",
          "M",
          "M",
          "M",
          "M",
          "M",
          "M",
          "M",
          "M",
          "M",
          "M",
          "M",
          "M",
          "M",
          "M",
          "M",
          "M",
          "M",
          "M",
          "M",
          "M",
          "M",
          "M"
         ],
         "x0": " ",
         "xaxis": "x",
         "y": {
          "bdata": "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",
          "dtype": "f8"
         },
         "y0": " ",
         "yaxis": "y"
        },
        {
         "alignmentgroup": "True",
         "hovertemplate": "diagnosis=%{x}<br>texture_mean=%{y}<extra></extra>",
         "legendgroup": "B",
         "marker": {
          "color": "#00FF00"
         },
         "name": "B",
         "notched": false,
         "offsetgroup": "B",
         "orientation": "v",
         "showlegend": true,
         "type": "box",
         "x": [
          "B",
          "B",
          "B",
          "B",
          "B",
          "B",
          "B",
          "B",
          "B",
          "B",
          "B",
          "B",
          "B",
          "B",
          "B",
          "B",
          "B",
          "B",
          "B",
          "B",
          "B",
          "B",
          "B",
          "B",
          "B",
          "B",
          "B",
          "B",
          "B",
          "B",
          "B",
          "B",
          "B",
          "B",
          "B",
          "B",
          "B",
          "B",
          "B",
          "B",
          "B",
          "B",
          "B",
          "B",
          "B",
          "B",
          "B",
          "B",
          "B",
          "B",
          "B",
          "B",
          "B",
          "B",
          "B",
          "B",
          "B",
          "B",
          "B",
          "B",
          "B",
          "B",
          "B",
          "B",
          "B",
          "B",
          "B",
          "B",
          "B",
          "B",
          "B",
          "B",
          "B",
          "B",
          "B",
          "B",
          "B",
          "B",
          "B",
          "B",
          "B",
          "B",
          "B",
          "B",
          "B",
          "B",
          "B",
          "B",
          "B",
          "B",
          "B",
          "B",
          "B",
          "B",
          "B",
          "B",
          "B",
          "B",
          "B",
          "B",
          "B",
          "B",
          "B",
          "B",
          "B",
          "B",
          "B",
          "B",
          "B",
          "B",
          "B",
          "B",
          "B",
          "B",
          "B",
          "B",
          "B",
          "B",
          "B",
          "B",
          "B",
          "B",
          "B",
          "B",
          "B",
          "B",
          "B",
          "B",
          "B",
          "B",
          "B",
          "B",
          "B",
          "B",
          "B",
          "B",
          "B",
          "B",
          "B",
          "B",
          "B",
          "B",
          "B",
          "B",
          "B",
          "B",
          "B",
          "B",
          "B",
          "B",
          "B",
          "B",
          "B",
          "B",
          "B",
          "B",
          "B",
          "B",
          "B",
          "B",
          "B",
          "B",
          "B",
          "B",
          "B",
          "B",
          "B",
          "B",
          "B",
          "B",
          "B",
          "B",
          "B",
          "B",
          "B",
          "B",
          "B",
          "B",
          "B",
          "B",
          "B",
          "B",
          "B",
          "B",
          "B",
          "B",
          "B",
          "B",
          "B",
          "B",
          "B",
          "B",
          "B",
          "B",
          "B",
          "B",
          "B",
          "B",
          "B",
          "B",
          "B",
          "B",
          "B",
          "B",
          "B",
          "B",
          "B",
          "B",
          "B",
          "B",
          "B",
          "B",
          "B",
          "B",
          "B",
          "B",
          "B",
          "B",
          "B",
          "B",
          "B",
          "B",
          "B",
          "B",
          "B",
          "B",
          "B",
          "B",
          "B",
          "B",
          "B",
          "B",
          "B",
          "B",
          "B",
          "B",
          "B",
          "B",
          "B",
          "B",
          "B",
          "B",
          "B",
          "B",
          "B",
          "B",
          "B",
          "B",
          "B",
          "B",
          "B",
          "B",
          "B",
          "B",
          "B",
          "B",
          "B",
          "B",
          "B",
          "B",
          "B",
          "B",
          "B",
          "B",
          "B",
          "B",
          "B",
          "B",
          "B",
          "B",
          "B",
          "B",
          "B",
          "B",
          "B",
          "B",
          "B",
          "B",
          "B",
          "B",
          "B",
          "B",
          "B",
          "B",
          "B",
          "B",
          "B",
          "B",
          "B",
          "B",
          "B",
          "B",
          "B",
          "B",
          "B",
          "B",
          "B",
          "B",
          "B",
          "B",
          "B",
          "B",
          "B",
          "B",
          "B",
          "B",
          "B",
          "B",
          "B",
          "B",
          "B",
          "B",
          "B",
          "B",
          "B",
          "B",
          "B",
          "B",
          "B",
          "B",
          "B",
          "B",
          "B",
          "B",
          "B",
          "B",
          "B",
          "B",
          "B",
          "B",
          "B",
          "B",
          "B",
          "B",
          "B",
          "B",
          "B",
          "B",
          "B",
          "B",
          "B",
          "B",
          "B",
          "B",
          "B",
          "B",
          "B",
          "B",
          "B",
          "B",
          "B",
          "B",
          "B",
          "B",
          "B",
          "B",
          "B"
         ],
         "x0": " ",
         "xaxis": "x",
         "y": {
          "bdata": "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",
          "dtype": "f8"
         },
         "y0": " ",
         "yaxis": "y"
        }
       ],
       "layout": {
        "boxmode": "overlay",
        "legend": {
         "title": {
          "text": "diagnosis"
         },
         "tracegroupgap": 0
        },
        "margin": {
         "t": 60
        },
        "template": {
         "data": {
          "bar": [
           {
            "error_x": {
             "color": "#2a3f5f"
            },
            "error_y": {
             "color": "#2a3f5f"
            },
            "marker": {
             "line": {
              "color": "#E5ECF6",
              "width": 0.5
             },
             "pattern": {
              "fillmode": "overlay",
              "size": 10,
              "solidity": 0.2
             }
            },
            "type": "bar"
           }
          ],
          "barpolar": [
           {
            "marker": {
             "line": {
              "color": "#E5ECF6",
              "width": 0.5
             },
             "pattern": {
              "fillmode": "overlay",
              "size": 10,
              "solidity": 0.2
             }
            },
            "type": "barpolar"
           }
          ],
          "carpet": [
           {
            "aaxis": {
             "endlinecolor": "#2a3f5f",
             "gridcolor": "white",
             "linecolor": "white",
             "minorgridcolor": "white",
             "startlinecolor": "#2a3f5f"
            },
            "baxis": {
             "endlinecolor": "#2a3f5f",
             "gridcolor": "white",
             "linecolor": "white",
             "minorgridcolor": "white",
             "startlinecolor": "#2a3f5f"
            },
            "type": "carpet"
           }
          ],
          "choropleth": [
           {
            "colorbar": {
             "outlinewidth": 0,
             "ticks": ""
            },
            "type": "choropleth"
           }
          ],
          "contour": [
           {
            "colorbar": {
             "outlinewidth": 0,
             "ticks": ""
            },
            "colorscale": [
             [
              0,
              "#0d0887"
             ],
             [
              0.1111111111111111,
              "#46039f"
             ],
             [
              0.2222222222222222,
              "#7201a8"
             ],
             [
              0.3333333333333333,
              "#9c179e"
             ],
             [
              0.4444444444444444,
              "#bd3786"
             ],
             [
              0.5555555555555556,
              "#d8576b"
             ],
             [
              0.6666666666666666,
              "#ed7953"
             ],
             [
              0.7777777777777778,
              "#fb9f3a"
             ],
             [
              0.8888888888888888,
              "#fdca26"
             ],
             [
              1,
              "#f0f921"
             ]
            ],
            "type": "contour"
           }
          ],
          "contourcarpet": [
           {
            "colorbar": {
             "outlinewidth": 0,
             "ticks": ""
            },
            "type": "contourcarpet"
           }
          ],
          "heatmap": [
           {
            "colorbar": {
             "outlinewidth": 0,
             "ticks": ""
            },
            "colorscale": [
             [
              0,
              "#0d0887"
             ],
             [
              0.1111111111111111,
              "#46039f"
             ],
             [
              0.2222222222222222,
              "#7201a8"
             ],
             [
              0.3333333333333333,
              "#9c179e"
             ],
             [
              0.4444444444444444,
              "#bd3786"
             ],
             [
              0.5555555555555556,
              "#d8576b"
             ],
             [
              0.6666666666666666,
              "#ed7953"
             ],
             [
              0.7777777777777778,
              "#fb9f3a"
             ],
             [
              0.8888888888888888,
              "#fdca26"
             ],
             [
              1,
              "#f0f921"
             ]
            ],
            "type": "heatmap"
           }
          ],
          "histogram": [
           {
            "marker": {
             "pattern": {
              "fillmode": "overlay",
              "size": 10,
              "solidity": 0.2
             }
            },
            "type": "histogram"
           }
          ],
          "histogram2d": [
           {
            "colorbar": {
             "outlinewidth": 0,
             "ticks": ""
            },
            "colorscale": [
             [
              0,
              "#0d0887"
             ],
             [
              0.1111111111111111,
              "#46039f"
             ],
             [
              0.2222222222222222,
              "#7201a8"
             ],
             [
              0.3333333333333333,
              "#9c179e"
             ],
             [
              0.4444444444444444,
              "#bd3786"
             ],
             [
              0.5555555555555556,
              "#d8576b"
             ],
             [
              0.6666666666666666,
              "#ed7953"
             ],
             [
              0.7777777777777778,
              "#fb9f3a"
             ],
             [
              0.8888888888888888,
              "#fdca26"
             ],
             [
              1,
              "#f0f921"
             ]
            ],
            "type": "histogram2d"
           }
          ],
          "histogram2dcontour": [
           {
            "colorbar": {
             "outlinewidth": 0,
             "ticks": ""
            },
            "colorscale": [
             [
              0,
              "#0d0887"
             ],
             [
              0.1111111111111111,
              "#46039f"
             ],
             [
              0.2222222222222222,
              "#7201a8"
             ],
             [
              0.3333333333333333,
              "#9c179e"
             ],
             [
              0.4444444444444444,
              "#bd3786"
             ],
             [
              0.5555555555555556,
              "#d8576b"
             ],
             [
              0.6666666666666666,
              "#ed7953"
             ],
             [
              0.7777777777777778,
              "#fb9f3a"
             ],
             [
              0.8888888888888888,
              "#fdca26"
             ],
             [
              1,
              "#f0f921"
             ]
            ],
            "type": "histogram2dcontour"
           }
          ],
          "mesh3d": [
           {
            "colorbar": {
             "outlinewidth": 0,
             "ticks": ""
            },
            "type": "mesh3d"
           }
          ],
          "parcoords": [
           {
            "line": {
             "colorbar": {
              "outlinewidth": 0,
              "ticks": ""
             }
            },
            "type": "parcoords"
           }
          ],
          "pie": [
           {
            "automargin": true,
            "type": "pie"
           }
          ],
          "scatter": [
           {
            "fillpattern": {
             "fillmode": "overlay",
             "size": 10,
             "solidity": 0.2
            },
            "type": "scatter"
           }
          ],
          "scatter3d": [
           {
            "line": {
             "colorbar": {
              "outlinewidth": 0,
              "ticks": ""
             }
            },
            "marker": {
             "colorbar": {
              "outlinewidth": 0,
              "ticks": ""
             }
            },
            "type": "scatter3d"
           }
          ],
          "scattercarpet": [
           {
            "marker": {
             "colorbar": {
              "outlinewidth": 0,
              "ticks": ""
             }
            },
            "type": "scattercarpet"
           }
          ],
          "scattergeo": [
           {
            "marker": {
             "colorbar": {
              "outlinewidth": 0,
              "ticks": ""
             }
            },
            "type": "scattergeo"
           }
          ],
          "scattergl": [
           {
            "marker": {
             "colorbar": {
              "outlinewidth": 0,
              "ticks": ""
             }
            },
            "type": "scattergl"
           }
          ],
          "scattermap": [
           {
            "marker": {
             "colorbar": {
              "outlinewidth": 0,
              "ticks": ""
             }
            },
            "type": "scattermap"
           }
          ],
          "scattermapbox": [
           {
            "marker": {
             "colorbar": {
              "outlinewidth": 0,
              "ticks": ""
             }
            },
            "type": "scattermapbox"
           }
          ],
          "scatterpolar": [
           {
            "marker": {
             "colorbar": {
              "outlinewidth": 0,
              "ticks": ""
             }
            },
            "type": "scatterpolar"
           }
          ],
          "scatterpolargl": [
           {
            "marker": {
             "colorbar": {
              "outlinewidth": 0,
              "ticks": ""
             }
            },
            "type": "scatterpolargl"
           }
          ],
          "scatterternary": [
           {
            "marker": {
             "colorbar": {
              "outlinewidth": 0,
              "ticks": ""
             }
            },
            "type": "scatterternary"
           }
          ],
          "surface": [
           {
            "colorbar": {
             "outlinewidth": 0,
             "ticks": ""
            },
            "colorscale": [
             [
              0,
              "#0d0887"
             ],
             [
              0.1111111111111111,
              "#46039f"
             ],
             [
              0.2222222222222222,
              "#7201a8"
             ],
             [
              0.3333333333333333,
              "#9c179e"
             ],
             [
              0.4444444444444444,
              "#bd3786"
             ],
             [
              0.5555555555555556,
              "#d8576b"
             ],
             [
              0.6666666666666666,
              "#ed7953"
             ],
             [
              0.7777777777777778,
              "#fb9f3a"
             ],
             [
              0.8888888888888888,
              "#fdca26"
             ],
             [
              1,
              "#f0f921"
             ]
            ],
            "type": "surface"
           }
          ],
          "table": [
           {
            "cells": {
             "fill": {
              "color": "#EBF0F8"
             },
             "line": {
              "color": "white"
             }
            },
            "header": {
             "fill": {
              "color": "#C8D4E3"
             },
             "line": {
              "color": "white"
             }
            },
            "type": "table"
           }
          ]
         },
         "layout": {
          "annotationdefaults": {
           "arrowcolor": "#2a3f5f",
           "arrowhead": 0,
           "arrowwidth": 1
          },
          "autotypenumbers": "strict",
          "coloraxis": {
           "colorbar": {
            "outlinewidth": 0,
            "ticks": ""
           }
          },
          "colorscale": {
           "diverging": [
            [
             0,
             "#8e0152"
            ],
            [
             0.1,
             "#c51b7d"
            ],
            [
             0.2,
             "#de77ae"
            ],
            [
             0.3,
             "#f1b6da"
            ],
            [
             0.4,
             "#fde0ef"
            ],
            [
             0.5,
             "#f7f7f7"
            ],
            [
             0.6,
             "#e6f5d0"
            ],
            [
             0.7,
             "#b8e186"
            ],
            [
             0.8,
             "#7fbc41"
            ],
            [
             0.9,
             "#4d9221"
            ],
            [
             1,
             "#276419"
            ]
           ],
           "sequential": [
            [
             0,
             "#0d0887"
            ],
            [
             0.1111111111111111,
             "#46039f"
            ],
            [
             0.2222222222222222,
             "#7201a8"
            ],
            [
             0.3333333333333333,
             "#9c179e"
            ],
            [
             0.4444444444444444,
             "#bd3786"
            ],
            [
             0.5555555555555556,
             "#d8576b"
            ],
            [
             0.6666666666666666,
             "#ed7953"
            ],
            [
             0.7777777777777778,
             "#fb9f3a"
            ],
            [
             0.8888888888888888,
             "#fdca26"
            ],
            [
             1,
             "#f0f921"
            ]
           ],
           "sequentialminus": [
            [
             0,
             "#0d0887"
            ],
            [
             0.1111111111111111,
             "#46039f"
            ],
            [
             0.2222222222222222,
             "#7201a8"
            ],
            [
             0.3333333333333333,
             "#9c179e"
            ],
            [
             0.4444444444444444,
             "#bd3786"
            ],
            [
             0.5555555555555556,
             "#d8576b"
            ],
            [
             0.6666666666666666,
             "#ed7953"
            ],
            [
             0.7777777777777778,
             "#fb9f3a"
            ],
            [
             0.8888888888888888,
             "#fdca26"
            ],
            [
             1,
             "#f0f921"
            ]
           ]
          },
          "colorway": [
           "#636efa",
           "#EF553B",
           "#00cc96",
           "#ab63fa",
           "#FFA15A",
           "#19d3f3",
           "#FF6692",
           "#B6E880",
           "#FF97FF",
           "#FECB52"
          ],
          "font": {
           "color": "#2a3f5f"
          },
          "geo": {
           "bgcolor": "white",
           "lakecolor": "white",
           "landcolor": "#E5ECF6",
           "showlakes": true,
           "showland": true,
           "subunitcolor": "white"
          },
          "hoverlabel": {
           "align": "left"
          },
          "hovermode": "closest",
          "mapbox": {
           "style": "light"
          },
          "paper_bgcolor": "white",
          "plot_bgcolor": "#E5ECF6",
          "polar": {
           "angularaxis": {
            "gridcolor": "white",
            "linecolor": "white",
            "ticks": ""
           },
           "bgcolor": "#E5ECF6",
           "radialaxis": {
            "gridcolor": "white",
            "linecolor": "white",
            "ticks": ""
           }
          },
          "scene": {
           "xaxis": {
            "backgroundcolor": "#E5ECF6",
            "gridcolor": "white",
            "gridwidth": 2,
            "linecolor": "white",
            "showbackground": true,
            "ticks": "",
            "zerolinecolor": "white"
           },
           "yaxis": {
            "backgroundcolor": "#E5ECF6",
            "gridcolor": "white",
            "gridwidth": 2,
            "linecolor": "white",
            "showbackground": true,
            "ticks": "",
            "zerolinecolor": "white"
           },
           "zaxis": {
            "backgroundcolor": "#E5ECF6",
            "gridcolor": "white",
            "gridwidth": 2,
            "linecolor": "white",
            "showbackground": true,
            "ticks": "",
            "zerolinecolor": "white"
           }
          },
          "shapedefaults": {
           "line": {
            "color": "#2a3f5f"
           }
          },
          "ternary": {
           "aaxis": {
            "gridcolor": "white",
            "linecolor": "white",
            "ticks": ""
           },
           "baxis": {
            "gridcolor": "white",
            "linecolor": "white",
            "ticks": ""
           },
           "bgcolor": "#E5ECF6",
           "caxis": {
            "gridcolor": "white",
            "linecolor": "white",
            "ticks": ""
           }
          },
          "title": {
           "x": 0.05
          },
          "xaxis": {
           "automargin": true,
           "gridcolor": "white",
           "linecolor": "white",
           "ticks": "",
           "title": {
            "standoff": 15
           },
           "zerolinecolor": "white",
           "zerolinewidth": 2
          },
          "yaxis": {
           "automargin": true,
           "gridcolor": "white",
           "linecolor": "white",
           "ticks": "",
           "title": {
            "standoff": 15
           },
           "zerolinecolor": "white",
           "zerolinewidth": 2
          }
         }
        },
        "xaxis": {
         "anchor": "y",
         "categoryarray": [
          "M",
          "B"
         ],
         "categoryorder": "array",
         "domain": [
          0,
          1
         ],
         "title": {
          "text": "diagnosis"
         }
        },
        "yaxis": {
         "anchor": "x",
         "domain": [
          0,
          1
         ],
         "title": {
          "text": "texture_mean"
         }
        }
       }
      }
     },
     "metadata": {},
     "output_type": "display_data"
    },
    {
     "data": {
      "application/vnd.plotly.v1+json": {
       "config": {
        "plotlyServerURL": "https://plot.ly"
       },
       "data": [
        {
         "alignmentgroup": "True",
         "hovertemplate": "diagnosis=%{x}<br>perimeter_mean=%{y}<extra></extra>",
         "legendgroup": "M",
         "marker": {
          "color": "#FF0000"
         },
         "name": "M",
         "notched": false,
         "offsetgroup": "M",
         "orientation": "v",
         "showlegend": true,
         "type": "box",
         "x": [
          "M",
          "M",
          "M",
          "M",
          "M",
          "M",
          "M",
          "M",
          "M",
          "M",
          "M",
          "M",
          "M",
          "M",
          "M",
          "M",
          "M",
          "M",
          "M",
          "M",
          "M",
          "M",
          "M",
          "M",
          "M",
          "M",
          "M",
          "M",
          "M",
          "M",
          "M",
          "M",
          "M",
          "M",
          "M",
          "M",
          "M",
          "M",
          "M",
          "M",
          "M",
          "M",
          "M",
          "M",
          "M",
          "M",
          "M",
          "M",
          "M",
          "M",
          "M",
          "M",
          "M",
          "M",
          "M",
          "M",
          "M",
          "M",
          "M",
          "M",
          "M",
          "M",
          "M",
          "M",
          "M",
          "M",
          "M",
          "M",
          "M",
          "M",
          "M",
          "M",
          "M",
          "M",
          "M",
          "M",
          "M",
          "M",
          "M",
          "M",
          "M",
          "M",
          "M",
          "M",
          "M",
          "M",
          "M",
          "M",
          "M",
          "M",
          "M",
          "M",
          "M",
          "M",
          "M",
          "M",
          "M",
          "M",
          "M",
          "M",
          "M",
          "M",
          "M",
          "M",
          "M",
          "M",
          "M",
          "M",
          "M",
          "M",
          "M",
          "M",
          "M",
          "M",
          "M",
          "M",
          "M",
          "M",
          "M",
          "M",
          "M",
          "M",
          "M",
          "M",
          "M",
          "M",
          "M",
          "M",
          "M",
          "M",
          "M",
          "M",
          "M",
          "M",
          "M",
          "M",
          "M",
          "M",
          "M",
          "M",
          "M",
          "M",
          "M",
          "M",
          "M",
          "M",
          "M",
          "M",
          "M",
          "M",
          "M",
          "M",
          "M",
          "M",
          "M",
          "M",
          "M",
          "M",
          "M",
          "M",
          "M",
          "M",
          "M",
          "M",
          "M",
          "M",
          "M",
          "M",
          "M",
          "M",
          "M",
          "M",
          "M",
          "M",
          "M",
          "M",
          "M",
          "M",
          "M",
          "M",
          "M",
          "M",
          "M",
          "M",
          "M",
          "M",
          "M",
          "M",
          "M",
          "M",
          "M",
          "M",
          "M",
          "M",
          "M",
          "M",
          "M",
          "M",
          "M",
          "M",
          "M",
          "M",
          "M",
          "M",
          "M",
          "M",
          "M",
          "M",
          "M",
          "M",
          "M",
          "M"
         ],
         "x0": " ",
         "xaxis": "x",
         "y": {
          "bdata": "MzMzMzOzXkDNzMzMzJxgQAAAAAAAQGBAhetRuB5lU0AzMzMzM+NgQBSuR+F6pFRAZmZmZmbmXUDNzMzMzIxWQAAAAAAA4FVArkfhehT+VEDNzMzMzKxZQGZmZmZm5llAzczMzMyMYEDNzMzMzOxZQGZmZmZmZldAH4XrUbguWECPwvUoXK9XQGZmZmZmBltAAAAAAABAYEAAAAAAAKBZQGZmZmZmJmFAAAAAAACAW0AAAAAAAABdQArXo3A9WlhAZmZmZmaGXkCamZmZmZlZQAAAAAAAwFxAMzMzMzMzX0DsUbgehXtTQDMzMzMzM1xAmpmZmZn5X0AAAAAAAMBaQGZmZmZmhltAuB6F61FoV0DD9Shcj+JXQJqZmZmZGVZA7FG4HoWLVUCamZmZmflRQJqZmZmZCWBAFK5H4XrUVUB7FK5H4VpVQM3MzMzM7F5AH4XrUbh+VUAzMzMzMxNeQHE9CtejUFhAAAAAAABgX0AzMzMzM+NXQHsUrkfhGlhAXI/C9SisVECamZmZmVlYQGZmZmZm5l5AzczMzMyMXEDsUbgehZtWQGZmZmZmBlpAzczMzMwMXkBmZmZmZvZhQAAAAAAAcGVAMzMzMzMjYEBmZmZmZkZeQAAAAAAAkFdAAAAAAACAXkDNzMzMzAxZQDMzMzMzE1lAzczMzMyMYEAfhetRuJ5XQDMzMzMzA1ZAPQrXo3DNVUCamZmZmRljQClcj8L1qFhAzczMzMxsWkDNzMzMzIxcQJqZmZmZWV5AZmZmZmbGZEBxPQrXo/BVQJqZmZmZ2V5AzczMzMxMYEDNzMzMzGxZQM3MzMzMjFpAzczMzMwMXkCuR+F6FG5UQGZmZmZmNlhAZmZmZmZGWkCPwvUoXL9TQJqZmZmZWV1AMzMzMzOTX0BmZmZmZlZgQDMzMzMzA2NAMzMzMzNTW0BmZmZmZgZdQPYoXI/CdVVAAAAAAACgWUAzMzMzM1NbQDMzMzMzw2ZAZmZmZmbWYUDNzMzMzExZQHsUrkfhulhAZmZmZmamXUBI4XoUrpdXQJqZmZmZSVRAmpmZmZkZWUC4HoXrUahWQJqZmZmZWV1AAAAAAADgX0CPwvUoXJ9XQGZmZmZmxlxAzczMzMzcY0CkcD0K1+NWQFK4HoXrsVhAzczMzMxsW0BmZmZmZtZgQAAAAAAAkGdAAAAAAACgXEBI4XoUrjdXQD0K16NwvVZAZmZmZmY2YEAAAAAAAABgQGZmZmZmpllAcT0K16NQVUCamZmZmVlcQM3MzMzMzGBAAAAAAAAwY0AAAAAAAJBgQJqZmZmZWVxAMzMzMzMjYEDNzMzMzFxhQGZmZmZmVmBAAAAAAABAXEAAAAAAAKBfQOxRuB6F21ZAMzMzMzOzYEDNzMzMzMxZQM3MzMzMjFtAzczMzMzsWUDNzMzMzJxgQAAAAAAAwFtAmpmZmZmZXEAAAAAAAABZQGZmZmZm5ltAZmZmZmb2YECamZmZmWliQM3MzMzMzFxAmpmZmZk5XkDNzMzMzIxfQM3MzMzMzF9AMzMzMzMzW0AAAAAAAMBSQAAAAAAAMGBAZmZmZmbWYEDNzMzMzKxdQDMzMzMzY2BAzczMzMz8YECamZmZmblaQAAAAAAA4FpAMzMzMzNzWkAzMzMzM/NbQJqZmZmZuV5AMzMzMzNjY0DNzMzMzDxgQGZmZmZmxlpAZmZmZmbGZUAAAAAAAIBYQJqZmZmZuWBAZmZmZma2YEDNzMzMzJxhQGZmZmZmZmJAAAAAAABAW0CamZmZmalhQJqZmZmZ2WBAMzMzMzNTUkCuR+F6FH5XQM3MzMzMHGBAmpmZmZmZWUDNzMzMzAxiQJqZmZmZGV9AMzMzMzNzXUA9CtejcC1YQJqZmZmZuVlAZmZmZmaGWUCamZmZmblgQM3MzMzM7F5ASOF6FK7HVkCamZmZmRlcQAAAAAAAYF1AMzMzMzNTXUAzMzMzM0NhQM3MzMzM7F9AzczMzMzMW0DNzMzMzFxnQAAAAAAAwF1AMzMzMzNzW0AzMzMzMwNgQGZmZmZmxlpAmpmZmZmZXUAzMzMzM1NeQJqZmZmZOWFAhetRuB4VV0AzMzMzMwNjQDMzMzMz81lAKVyPwvUoVkBxPQrXo1BYQDMzMzMzM15AAAAAAABQYEAAAAAAALBkQGZmZmZm1mBAmpmZmZk5YUDhehSuR3FXQJqZmZmZ2VlAAAAAAADgYUAAAAAAAMBhQGZmZmZmZmBAMzMzMzMTW0AzMzMzM4NhQA==",
          "dtype": "f8"
         },
         "y0": " ",
         "yaxis": "y"
        },
        {
         "alignmentgroup": "True",
         "hovertemplate": "diagnosis=%{x}<br>perimeter_mean=%{y}<extra></extra>",
         "legendgroup": "B",
         "marker": {
          "color": "#00FF00"
         },
         "name": "B",
         "notched": false,
         "offsetgroup": "B",
         "orientation": "v",
         "showlegend": true,
         "type": "box",
         "x": [
          "B",
          "B",
          "B",
          "B",
          "B",
          "B",
          "B",
          "B",
          "B",
          "B",
          "B",
          "B",
          "B",
          "B",
          "B",
          "B",
          "B",
          "B",
          "B",
          "B",
          "B",
          "B",
          "B",
          "B",
          "B",
          "B",
          "B",
          "B",
          "B",
          "B",
          "B",
          "B",
          "B",
          "B",
          "B",
          "B",
          "B",
          "B",
          "B",
          "B",
          "B",
          "B",
          "B",
          "B",
          "B",
          "B",
          "B",
          "B",
          "B",
          "B",
          "B",
          "B",
          "B",
          "B",
          "B",
          "B",
          "B",
          "B",
          "B",
          "B",
          "B",
          "B",
          "B",
          "B",
          "B",
          "B",
          "B",
          "B",
          "B",
          "B",
          "B",
          "B",
          "B",
          "B",
          "B",
          "B",
          "B",
          "B",
          "B",
          "B",
          "B",
          "B",
          "B",
          "B",
          "B",
          "B",
          "B",
          "B",
          "B",
          "B",
          "B",
          "B",
          "B",
          "B",
          "B",
          "B",
          "B",
          "B",
          "B",
          "B",
          "B",
          "B",
          "B",
          "B",
          "B",
          "B",
          "B",
          "B",
          "B",
          "B",
          "B",
          "B",
          "B",
          "B",
          "B",
          "B",
          "B",
          "B",
          "B",
          "B",
          "B",
          "B",
          "B",
          "B",
          "B",
          "B",
          "B",
          "B",
          "B",
          "B",
          "B",
          "B",
          "B",
          "B",
          "B",
          "B",
          "B",
          "B",
          "B",
          "B",
          "B",
          "B",
          "B",
          "B",
          "B",
          "B",
          "B",
          "B",
          "B",
          "B",
          "B",
          "B",
          "B",
          "B",
          "B",
          "B",
          "B",
          "B",
          "B",
          "B",
          "B",
          "B",
          "B",
          "B",
          "B",
          "B",
          "B",
          "B",
          "B",
          "B",
          "B",
          "B",
          "B",
          "B",
          "B",
          "B",
          "B",
          "B",
          "B",
          "B",
          "B",
          "B",
          "B",
          "B",
          "B",
          "B",
          "B",
          "B",
          "B",
          "B",
          "B",
          "B",
          "B",
          "B",
          "B",
          "B",
          "B",
          "B",
          "B",
          "B",
          "B",
          "B",
          "B",
          "B",
          "B",
          "B",
          "B",
          "B",
          "B",
          "B",
          "B",
          "B",
          "B",
          "B",
          "B",
          "B",
          "B",
          "B",
          "B",
          "B",
          "B",
          "B",
          "B",
          "B",
          "B",
          "B",
          "B",
          "B",
          "B",
          "B",
          "B",
          "B",
          "B",
          "B",
          "B",
          "B",
          "B",
          "B",
          "B",
          "B",
          "B",
          "B",
          "B",
          "B",
          "B",
          "B",
          "B",
          "B",
          "B",
          "B",
          "B",
          "B",
          "B",
          "B",
          "B",
          "B",
          "B",
          "B",
          "B",
          "B",
          "B",
          "B",
          "B",
          "B",
          "B",
          "B",
          "B",
          "B",
          "B",
          "B",
          "B",
          "B",
          "B",
          "B",
          "B",
          "B",
          "B",
          "B",
          "B",
          "B",
          "B",
          "B",
          "B",
          "B",
          "B",
          "B",
          "B",
          "B",
          "B",
          "B",
          "B",
          "B",
          "B",
          "B",
          "B",
          "B",
          "B",
          "B",
          "B",
          "B",
          "B",
          "B",
          "B",
          "B",
          "B",
          "B",
          "B",
          "B",
          "B",
          "B",
          "B",
          "B",
          "B",
          "B",
          "B",
          "B",
          "B",
          "B",
          "B",
          "B",
          "B",
          "B",
          "B",
          "B",
          "B",
          "B",
          "B",
          "B",
          "B",
          "B",
          "B",
          "B",
          "B",
          "B",
          "B",
          "B",
          "B",
          "B",
          "B",
          "B",
          "B",
          "B",
          "B",
          "B",
          "B",
          "B",
          "B",
          "B",
          "B",
          "B",
          "B",
          "B",
          "B",
          "B",
          "B",
          "B",
          "B"
         ],
         "x0": " ",
         "xaxis": "x",
         "y": {
          "bdata": "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",
          "dtype": "f8"
         },
         "y0": " ",
         "yaxis": "y"
        }
       ],
       "layout": {
        "boxmode": "overlay",
        "legend": {
         "title": {
          "text": "diagnosis"
         },
         "tracegroupgap": 0
        },
        "margin": {
         "t": 60
        },
        "template": {
         "data": {
          "bar": [
           {
            "error_x": {
             "color": "#2a3f5f"
            },
            "error_y": {
             "color": "#2a3f5f"
            },
            "marker": {
             "line": {
              "color": "#E5ECF6",
              "width": 0.5
             },
             "pattern": {
              "fillmode": "overlay",
              "size": 10,
              "solidity": 0.2
             }
            },
            "type": "bar"
           }
          ],
          "barpolar": [
           {
            "marker": {
             "line": {
              "color": "#E5ECF6",
              "width": 0.5
             },
             "pattern": {
              "fillmode": "overlay",
              "size": 10,
              "solidity": 0.2
             }
            },
            "type": "barpolar"
           }
          ],
          "carpet": [
           {
            "aaxis": {
             "endlinecolor": "#2a3f5f",
             "gridcolor": "white",
             "linecolor": "white",
             "minorgridcolor": "white",
             "startlinecolor": "#2a3f5f"
            },
            "baxis": {
             "endlinecolor": "#2a3f5f",
             "gridcolor": "white",
             "linecolor": "white",
             "minorgridcolor": "white",
             "startlinecolor": "#2a3f5f"
            },
            "type": "carpet"
           }
          ],
          "choropleth": [
           {
            "colorbar": {
             "outlinewidth": 0,
             "ticks": ""
            },
            "type": "choropleth"
           }
          ],
          "contour": [
           {
            "colorbar": {
             "outlinewidth": 0,
             "ticks": ""
            },
            "colorscale": [
             [
              0,
              "#0d0887"
             ],
             [
              0.1111111111111111,
              "#46039f"
             ],
             [
              0.2222222222222222,
              "#7201a8"
             ],
             [
              0.3333333333333333,
              "#9c179e"
             ],
             [
              0.4444444444444444,
              "#bd3786"
             ],
             [
              0.5555555555555556,
              "#d8576b"
             ],
             [
              0.6666666666666666,
              "#ed7953"
             ],
             [
              0.7777777777777778,
              "#fb9f3a"
             ],
             [
              0.8888888888888888,
              "#fdca26"
             ],
             [
              1,
              "#f0f921"
             ]
            ],
            "type": "contour"
           }
          ],
          "contourcarpet": [
           {
            "colorbar": {
             "outlinewidth": 0,
             "ticks": ""
            },
            "type": "contourcarpet"
           }
          ],
          "heatmap": [
           {
            "colorbar": {
             "outlinewidth": 0,
             "ticks": ""
            },
            "colorscale": [
             [
              0,
              "#0d0887"
             ],
             [
              0.1111111111111111,
              "#46039f"
             ],
             [
              0.2222222222222222,
              "#7201a8"
             ],
             [
              0.3333333333333333,
              "#9c179e"
             ],
             [
              0.4444444444444444,
              "#bd3786"
             ],
             [
              0.5555555555555556,
              "#d8576b"
             ],
             [
              0.6666666666666666,
              "#ed7953"
             ],
             [
              0.7777777777777778,
              "#fb9f3a"
             ],
             [
              0.8888888888888888,
              "#fdca26"
             ],
             [
              1,
              "#f0f921"
             ]
            ],
            "type": "heatmap"
           }
          ],
          "histogram": [
           {
            "marker": {
             "pattern": {
              "fillmode": "overlay",
              "size": 10,
              "solidity": 0.2
             }
            },
            "type": "histogram"
           }
          ],
          "histogram2d": [
           {
            "colorbar": {
             "outlinewidth": 0,
             "ticks": ""
            },
            "colorscale": [
             [
              0,
              "#0d0887"
             ],
             [
              0.1111111111111111,
              "#46039f"
             ],
             [
              0.2222222222222222,
              "#7201a8"
             ],
             [
              0.3333333333333333,
              "#9c179e"
             ],
             [
              0.4444444444444444,
              "#bd3786"
             ],
             [
              0.5555555555555556,
              "#d8576b"
             ],
             [
              0.6666666666666666,
              "#ed7953"
             ],
             [
              0.7777777777777778,
              "#fb9f3a"
             ],
             [
              0.8888888888888888,
              "#fdca26"
             ],
             [
              1,
              "#f0f921"
             ]
            ],
            "type": "histogram2d"
           }
          ],
          "histogram2dcontour": [
           {
            "colorbar": {
             "outlinewidth": 0,
             "ticks": ""
            },
            "colorscale": [
             [
              0,
              "#0d0887"
             ],
             [
              0.1111111111111111,
              "#46039f"
             ],
             [
              0.2222222222222222,
              "#7201a8"
             ],
             [
              0.3333333333333333,
              "#9c179e"
             ],
             [
              0.4444444444444444,
              "#bd3786"
             ],
             [
              0.5555555555555556,
              "#d8576b"
             ],
             [
              0.6666666666666666,
              "#ed7953"
             ],
             [
              0.7777777777777778,
              "#fb9f3a"
             ],
             [
              0.8888888888888888,
              "#fdca26"
             ],
             [
              1,
              "#f0f921"
             ]
            ],
            "type": "histogram2dcontour"
           }
          ],
          "mesh3d": [
           {
            "colorbar": {
             "outlinewidth": 0,
             "ticks": ""
            },
            "type": "mesh3d"
           }
          ],
          "parcoords": [
           {
            "line": {
             "colorbar": {
              "outlinewidth": 0,
              "ticks": ""
             }
            },
            "type": "parcoords"
           }
          ],
          "pie": [
           {
            "automargin": true,
            "type": "pie"
           }
          ],
          "scatter": [
           {
            "fillpattern": {
             "fillmode": "overlay",
             "size": 10,
             "solidity": 0.2
            },
            "type": "scatter"
           }
          ],
          "scatter3d": [
           {
            "line": {
             "colorbar": {
              "outlinewidth": 0,
              "ticks": ""
             }
            },
            "marker": {
             "colorbar": {
              "outlinewidth": 0,
              "ticks": ""
             }
            },
            "type": "scatter3d"
           }
          ],
          "scattercarpet": [
           {
            "marker": {
             "colorbar": {
              "outlinewidth": 0,
              "ticks": ""
             }
            },
            "type": "scattercarpet"
           }
          ],
          "scattergeo": [
           {
            "marker": {
             "colorbar": {
              "outlinewidth": 0,
              "ticks": ""
             }
            },
            "type": "scattergeo"
           }
          ],
          "scattergl": [
           {
            "marker": {
             "colorbar": {
              "outlinewidth": 0,
              "ticks": ""
             }
            },
            "type": "scattergl"
           }
          ],
          "scattermap": [
           {
            "marker": {
             "colorbar": {
              "outlinewidth": 0,
              "ticks": ""
             }
            },
            "type": "scattermap"
           }
          ],
          "scattermapbox": [
           {
            "marker": {
             "colorbar": {
              "outlinewidth": 0,
              "ticks": ""
             }
            },
            "type": "scattermapbox"
           }
          ],
          "scatterpolar": [
           {
            "marker": {
             "colorbar": {
              "outlinewidth": 0,
              "ticks": ""
             }
            },
            "type": "scatterpolar"
           }
          ],
          "scatterpolargl": [
           {
            "marker": {
             "colorbar": {
              "outlinewidth": 0,
              "ticks": ""
             }
            },
            "type": "scatterpolargl"
           }
          ],
          "scatterternary": [
           {
            "marker": {
             "colorbar": {
              "outlinewidth": 0,
              "ticks": ""
             }
            },
            "type": "scatterternary"
           }
          ],
          "surface": [
           {
            "colorbar": {
             "outlinewidth": 0,
             "ticks": ""
            },
            "colorscale": [
             [
              0,
              "#0d0887"
             ],
             [
              0.1111111111111111,
              "#46039f"
             ],
             [
              0.2222222222222222,
              "#7201a8"
             ],
             [
              0.3333333333333333,
              "#9c179e"
             ],
             [
              0.4444444444444444,
              "#bd3786"
             ],
             [
              0.5555555555555556,
              "#d8576b"
             ],
             [
              0.6666666666666666,
              "#ed7953"
             ],
             [
              0.7777777777777778,
              "#fb9f3a"
             ],
             [
              0.8888888888888888,
              "#fdca26"
             ],
             [
              1,
              "#f0f921"
             ]
            ],
            "type": "surface"
           }
          ],
          "table": [
           {
            "cells": {
             "fill": {
              "color": "#EBF0F8"
             },
             "line": {
              "color": "white"
             }
            },
            "header": {
             "fill": {
              "color": "#C8D4E3"
             },
             "line": {
              "color": "white"
             }
            },
            "type": "table"
           }
          ]
         },
         "layout": {
          "annotationdefaults": {
           "arrowcolor": "#2a3f5f",
           "arrowhead": 0,
           "arrowwidth": 1
          },
          "autotypenumbers": "strict",
          "coloraxis": {
           "colorbar": {
            "outlinewidth": 0,
            "ticks": ""
           }
          },
          "colorscale": {
           "diverging": [
            [
             0,
             "#8e0152"
            ],
            [
             0.1,
             "#c51b7d"
            ],
            [
             0.2,
             "#de77ae"
            ],
            [
             0.3,
             "#f1b6da"
            ],
            [
             0.4,
             "#fde0ef"
            ],
            [
             0.5,
             "#f7f7f7"
            ],
            [
             0.6,
             "#e6f5d0"
            ],
            [
             0.7,
             "#b8e186"
            ],
            [
             0.8,
             "#7fbc41"
            ],
            [
             0.9,
             "#4d9221"
            ],
            [
             1,
             "#276419"
            ]
           ],
           "sequential": [
            [
             0,
             "#0d0887"
            ],
            [
             0.1111111111111111,
             "#46039f"
            ],
            [
             0.2222222222222222,
             "#7201a8"
            ],
            [
             0.3333333333333333,
             "#9c179e"
            ],
            [
             0.4444444444444444,
             "#bd3786"
            ],
            [
             0.5555555555555556,
             "#d8576b"
            ],
            [
             0.6666666666666666,
             "#ed7953"
            ],
            [
             0.7777777777777778,
             "#fb9f3a"
            ],
            [
             0.8888888888888888,
             "#fdca26"
            ],
            [
             1,
             "#f0f921"
            ]
           ],
           "sequentialminus": [
            [
             0,
             "#0d0887"
            ],
            [
             0.1111111111111111,
             "#46039f"
            ],
            [
             0.2222222222222222,
             "#7201a8"
            ],
            [
             0.3333333333333333,
             "#9c179e"
            ],
            [
             0.4444444444444444,
             "#bd3786"
            ],
            [
             0.5555555555555556,
             "#d8576b"
            ],
            [
             0.6666666666666666,
             "#ed7953"
            ],
            [
             0.7777777777777778,
             "#fb9f3a"
            ],
            [
             0.8888888888888888,
             "#fdca26"
            ],
            [
             1,
             "#f0f921"
            ]
           ]
          },
          "colorway": [
           "#636efa",
           "#EF553B",
           "#00cc96",
           "#ab63fa",
           "#FFA15A",
           "#19d3f3",
           "#FF6692",
           "#B6E880",
           "#FF97FF",
           "#FECB52"
          ],
          "font": {
           "color": "#2a3f5f"
          },
          "geo": {
           "bgcolor": "white",
           "lakecolor": "white",
           "landcolor": "#E5ECF6",
           "showlakes": true,
           "showland": true,
           "subunitcolor": "white"
          },
          "hoverlabel": {
           "align": "left"
          },
          "hovermode": "closest",
          "mapbox": {
           "style": "light"
          },
          "paper_bgcolor": "white",
          "plot_bgcolor": "#E5ECF6",
          "polar": {
           "angularaxis": {
            "gridcolor": "white",
            "linecolor": "white",
            "ticks": ""
           },
           "bgcolor": "#E5ECF6",
           "radialaxis": {
            "gridcolor": "white",
            "linecolor": "white",
            "ticks": ""
           }
          },
          "scene": {
           "xaxis": {
            "backgroundcolor": "#E5ECF6",
            "gridcolor": "white",
            "gridwidth": 2,
            "linecolor": "white",
            "showbackground": true,
            "ticks": "",
            "zerolinecolor": "white"
           },
           "yaxis": {
            "backgroundcolor": "#E5ECF6",
            "gridcolor": "white",
            "gridwidth": 2,
            "linecolor": "white",
            "showbackground": true,
            "ticks": "",
            "zerolinecolor": "white"
           },
           "zaxis": {
            "backgroundcolor": "#E5ECF6",
            "gridcolor": "white",
            "gridwidth": 2,
            "linecolor": "white",
            "showbackground": true,
            "ticks": "",
            "zerolinecolor": "white"
           }
          },
          "shapedefaults": {
           "line": {
            "color": "#2a3f5f"
           }
          },
          "ternary": {
           "aaxis": {
            "gridcolor": "white",
            "linecolor": "white",
            "ticks": ""
           },
           "baxis": {
            "gridcolor": "white",
            "linecolor": "white",
            "ticks": ""
           },
           "bgcolor": "#E5ECF6",
           "caxis": {
            "gridcolor": "white",
            "linecolor": "white",
            "ticks": ""
           }
          },
          "title": {
           "x": 0.05
          },
          "xaxis": {
           "automargin": true,
           "gridcolor": "white",
           "linecolor": "white",
           "ticks": "",
           "title": {
            "standoff": 15
           },
           "zerolinecolor": "white",
           "zerolinewidth": 2
          },
          "yaxis": {
           "automargin": true,
           "gridcolor": "white",
           "linecolor": "white",
           "ticks": "",
           "title": {
            "standoff": 15
           },
           "zerolinecolor": "white",
           "zerolinewidth": 2
          }
         }
        },
        "xaxis": {
         "anchor": "y",
         "categoryarray": [
          "M",
          "B"
         ],
         "categoryorder": "array",
         "domain": [
          0,
          1
         ],
         "title": {
          "text": "diagnosis"
         }
        },
        "yaxis": {
         "anchor": "x",
         "domain": [
          0,
          1
         ],
         "title": {
          "text": "perimeter_mean"
         }
        }
       }
      }
     },
     "metadata": {},
     "output_type": "display_data"
    },
    {
     "data": {
      "application/vnd.plotly.v1+json": {
       "config": {
        "plotlyServerURL": "https://plot.ly"
       },
       "data": [
        {
         "alignmentgroup": "True",
         "hovertemplate": "diagnosis=%{x}<br>area_mean=%{y}<extra></extra>",
         "legendgroup": "M",
         "marker": {
          "color": "#FF0000"
         },
         "name": "M",
         "notched": false,
         "offsetgroup": "M",
         "orientation": "v",
         "showlegend": true,
         "type": "box",
         "x": [
          "M",
          "M",
          "M",
          "M",
          "M",
          "M",
          "M",
          "M",
          "M",
          "M",
          "M",
          "M",
          "M",
          "M",
          "M",
          "M",
          "M",
          "M",
          "M",
          "M",
          "M",
          "M",
          "M",
          "M",
          "M",
          "M",
          "M",
          "M",
          "M",
          "M",
          "M",
          "M",
          "M",
          "M",
          "M",
          "M",
          "M",
          "M",
          "M",
          "M",
          "M",
          "M",
          "M",
          "M",
          "M",
          "M",
          "M",
          "M",
          "M",
          "M",
          "M",
          "M",
          "M",
          "M",
          "M",
          "M",
          "M",
          "M",
          "M",
          "M",
          "M",
          "M",
          "M",
          "M",
          "M",
          "M",
          "M",
          "M",
          "M",
          "M",
          "M",
          "M",
          "M",
          "M",
          "M",
          "M",
          "M",
          "M",
          "M",
          "M",
          "M",
          "M",
          "M",
          "M",
          "M",
          "M",
          "M",
          "M",
          "M",
          "M",
          "M",
          "M",
          "M",
          "M",
          "M",
          "M",
          "M",
          "M",
          "M",
          "M",
          "M",
          "M",
          "M",
          "M",
          "M",
          "M",
          "M",
          "M",
          "M",
          "M",
          "M",
          "M",
          "M",
          "M",
          "M",
          "M",
          "M",
          "M",
          "M",
          "M",
          "M",
          "M",
          "M",
          "M",
          "M",
          "M",
          "M",
          "M",
          "M",
          "M",
          "M",
          "M",
          "M",
          "M",
          "M",
          "M",
          "M",
          "M",
          "M",
          "M",
          "M",
          "M",
          "M",
          "M",
          "M",
          "M",
          "M",
          "M",
          "M",
          "M",
          "M",
          "M",
          "M",
          "M",
          "M",
          "M",
          "M",
          "M",
          "M",
          "M",
          "M",
          "M",
          "M",
          "M",
          "M",
          "M",
          "M",
          "M",
          "M",
          "M",
          "M",
          "M",
          "M",
          "M",
          "M",
          "M",
          "M",
          "M",
          "M",
          "M",
          "M",
          "M",
          "M",
          "M",
          "M",
          "M",
          "M",
          "M",
          "M",
          "M",
          "M",
          "M",
          "M",
          "M",
          "M",
          "M",
          "M",
          "M",
          "M",
          "M",
          "M",
          "M",
          "M",
          "M",
          "M",
          "M",
          "M",
          "M",
          "M",
          "M",
          "M",
          "M"
         ],
         "x0": " ",
         "xaxis": "x",
         "y": {
          "bdata": "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",
          "dtype": "f8"
         },
         "y0": " ",
         "yaxis": "y"
        },
        {
         "alignmentgroup": "True",
         "hovertemplate": "diagnosis=%{x}<br>area_mean=%{y}<extra></extra>",
         "legendgroup": "B",
         "marker": {
          "color": "#00FF00"
         },
         "name": "B",
         "notched": false,
         "offsetgroup": "B",
         "orientation": "v",
         "showlegend": true,
         "type": "box",
         "x": [
          "B",
          "B",
          "B",
          "B",
          "B",
          "B",
          "B",
          "B",
          "B",
          "B",
          "B",
          "B",
          "B",
          "B",
          "B",
          "B",
          "B",
          "B",
          "B",
          "B",
          "B",
          "B",
          "B",
          "B",
          "B",
          "B",
          "B",
          "B",
          "B",
          "B",
          "B",
          "B",
          "B",
          "B",
          "B",
          "B",
          "B",
          "B",
          "B",
          "B",
          "B",
          "B",
          "B",
          "B",
          "B",
          "B",
          "B",
          "B",
          "B",
          "B",
          "B",
          "B",
          "B",
          "B",
          "B",
          "B",
          "B",
          "B",
          "B",
          "B",
          "B",
          "B",
          "B",
          "B",
          "B",
          "B",
          "B",
          "B",
          "B",
          "B",
          "B",
          "B",
          "B",
          "B",
          "B",
          "B",
          "B",
          "B",
          "B",
          "B",
          "B",
          "B",
          "B",
          "B",
          "B",
          "B",
          "B",
          "B",
          "B",
          "B",
          "B",
          "B",
          "B",
          "B",
          "B",
          "B",
          "B",
          "B",
          "B",
          "B",
          "B",
          "B",
          "B",
          "B",
          "B",
          "B",
          "B",
          "B",
          "B",
          "B",
          "B",
          "B",
          "B",
          "B",
          "B",
          "B",
          "B",
          "B",
          "B",
          "B",
          "B",
          "B",
          "B",
          "B",
          "B",
          "B",
          "B",
          "B",
          "B",
          "B",
          "B",
          "B",
          "B",
          "B",
          "B",
          "B",
          "B",
          "B",
          "B",
          "B",
          "B",
          "B",
          "B",
          "B",
          "B",
          "B",
          "B",
          "B",
          "B",
          "B",
          "B",
          "B",
          "B",
          "B",
          "B",
          "B",
          "B",
          "B",
          "B",
          "B",
          "B",
          "B",
          "B",
          "B",
          "B",
          "B",
          "B",
          "B",
          "B",
          "B",
          "B",
          "B",
          "B",
          "B",
          "B",
          "B",
          "B",
          "B",
          "B",
          "B",
          "B",
          "B",
          "B",
          "B",
          "B",
          "B",
          "B",
          "B",
          "B",
          "B",
          "B",
          "B",
          "B",
          "B",
          "B",
          "B",
          "B",
          "B",
          "B",
          "B",
          "B",
          "B",
          "B",
          "B",
          "B",
          "B",
          "B",
          "B",
          "B",
          "B",
          "B",
          "B",
          "B",
          "B",
          "B",
          "B",
          "B",
          "B",
          "B",
          "B",
          "B",
          "B",
          "B",
          "B",
          "B",
          "B",
          "B",
          "B",
          "B",
          "B",
          "B",
          "B",
          "B",
          "B",
          "B",
          "B",
          "B",
          "B",
          "B",
          "B",
          "B",
          "B",
          "B",
          "B",
          "B",
          "B",
          "B",
          "B",
          "B",
          "B",
          "B",
          "B",
          "B",
          "B",
          "B",
          "B",
          "B",
          "B",
          "B",
          "B",
          "B",
          "B",
          "B",
          "B",
          "B",
          "B",
          "B",
          "B",
          "B",
          "B",
          "B",
          "B",
          "B",
          "B",
          "B",
          "B",
          "B",
          "B",
          "B",
          "B",
          "B",
          "B",
          "B",
          "B",
          "B",
          "B",
          "B",
          "B",
          "B",
          "B",
          "B",
          "B",
          "B",
          "B",
          "B",
          "B",
          "B",
          "B",
          "B",
          "B",
          "B",
          "B",
          "B",
          "B",
          "B",
          "B",
          "B",
          "B",
          "B",
          "B",
          "B",
          "B",
          "B",
          "B",
          "B",
          "B",
          "B",
          "B",
          "B",
          "B",
          "B",
          "B",
          "B",
          "B",
          "B",
          "B",
          "B",
          "B",
          "B",
          "B",
          "B",
          "B",
          "B",
          "B",
          "B",
          "B",
          "B",
          "B",
          "B",
          "B",
          "B",
          "B",
          "B",
          "B",
          "B",
          "B",
          "B",
          "B",
          "B",
          "B",
          "B",
          "B",
          "B",
          "B",
          "B",
          "B",
          "B"
         ],
         "x0": " ",
         "xaxis": "x",
         "y": {
          "bdata": "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",
          "dtype": "f8"
         },
         "y0": " ",
         "yaxis": "y"
        }
       ],
       "layout": {
        "boxmode": "overlay",
        "legend": {
         "title": {
          "text": "diagnosis"
         },
         "tracegroupgap": 0
        },
        "margin": {
         "t": 60
        },
        "template": {
         "data": {
          "bar": [
           {
            "error_x": {
             "color": "#2a3f5f"
            },
            "error_y": {
             "color": "#2a3f5f"
            },
            "marker": {
             "line": {
              "color": "#E5ECF6",
              "width": 0.5
             },
             "pattern": {
              "fillmode": "overlay",
              "size": 10,
              "solidity": 0.2
             }
            },
            "type": "bar"
           }
          ],
          "barpolar": [
           {
            "marker": {
             "line": {
              "color": "#E5ECF6",
              "width": 0.5
             },
             "pattern": {
              "fillmode": "overlay",
              "size": 10,
              "solidity": 0.2
             }
            },
            "type": "barpolar"
           }
          ],
          "carpet": [
           {
            "aaxis": {
             "endlinecolor": "#2a3f5f",
             "gridcolor": "white",
             "linecolor": "white",
             "minorgridcolor": "white",
             "startlinecolor": "#2a3f5f"
            },
            "baxis": {
             "endlinecolor": "#2a3f5f",
             "gridcolor": "white",
             "linecolor": "white",
             "minorgridcolor": "white",
             "startlinecolor": "#2a3f5f"
            },
            "type": "carpet"
           }
          ],
          "choropleth": [
           {
            "colorbar": {
             "outlinewidth": 0,
             "ticks": ""
            },
            "type": "choropleth"
           }
          ],
          "contour": [
           {
            "colorbar": {
             "outlinewidth": 0,
             "ticks": ""
            },
            "colorscale": [
             [
              0,
              "#0d0887"
             ],
             [
              0.1111111111111111,
              "#46039f"
             ],
             [
              0.2222222222222222,
              "#7201a8"
             ],
             [
              0.3333333333333333,
              "#9c179e"
             ],
             [
              0.4444444444444444,
              "#bd3786"
             ],
             [
              0.5555555555555556,
              "#d8576b"
             ],
             [
              0.6666666666666666,
              "#ed7953"
             ],
             [
              0.7777777777777778,
              "#fb9f3a"
             ],
             [
              0.8888888888888888,
              "#fdca26"
             ],
             [
              1,
              "#f0f921"
             ]
            ],
            "type": "contour"
           }
          ],
          "contourcarpet": [
           {
            "colorbar": {
             "outlinewidth": 0,
             "ticks": ""
            },
            "type": "contourcarpet"
           }
          ],
          "heatmap": [
           {
            "colorbar": {
             "outlinewidth": 0,
             "ticks": ""
            },
            "colorscale": [
             [
              0,
              "#0d0887"
             ],
             [
              0.1111111111111111,
              "#46039f"
             ],
             [
              0.2222222222222222,
              "#7201a8"
             ],
             [
              0.3333333333333333,
              "#9c179e"
             ],
             [
              0.4444444444444444,
              "#bd3786"
             ],
             [
              0.5555555555555556,
              "#d8576b"
             ],
             [
              0.6666666666666666,
              "#ed7953"
             ],
             [
              0.7777777777777778,
              "#fb9f3a"
             ],
             [
              0.8888888888888888,
              "#fdca26"
             ],
             [
              1,
              "#f0f921"
             ]
            ],
            "type": "heatmap"
           }
          ],
          "histogram": [
           {
            "marker": {
             "pattern": {
              "fillmode": "overlay",
              "size": 10,
              "solidity": 0.2
             }
            },
            "type": "histogram"
           }
          ],
          "histogram2d": [
           {
            "colorbar": {
             "outlinewidth": 0,
             "ticks": ""
            },
            "colorscale": [
             [
              0,
              "#0d0887"
             ],
             [
              0.1111111111111111,
              "#46039f"
             ],
             [
              0.2222222222222222,
              "#7201a8"
             ],
             [
              0.3333333333333333,
              "#9c179e"
             ],
             [
              0.4444444444444444,
              "#bd3786"
             ],
             [
              0.5555555555555556,
              "#d8576b"
             ],
             [
              0.6666666666666666,
              "#ed7953"
             ],
             [
              0.7777777777777778,
              "#fb9f3a"
             ],
             [
              0.8888888888888888,
              "#fdca26"
             ],
             [
              1,
              "#f0f921"
             ]
            ],
            "type": "histogram2d"
           }
          ],
          "histogram2dcontour": [
           {
            "colorbar": {
             "outlinewidth": 0,
             "ticks": ""
            },
            "colorscale": [
             [
              0,
              "#0d0887"
             ],
             [
              0.1111111111111111,
              "#46039f"
             ],
             [
              0.2222222222222222,
              "#7201a8"
             ],
             [
              0.3333333333333333,
              "#9c179e"
             ],
             [
              0.4444444444444444,
              "#bd3786"
             ],
             [
              0.5555555555555556,
              "#d8576b"
             ],
             [
              0.6666666666666666,
              "#ed7953"
             ],
             [
              0.7777777777777778,
              "#fb9f3a"
             ],
             [
              0.8888888888888888,
              "#fdca26"
             ],
             [
              1,
              "#f0f921"
             ]
            ],
            "type": "histogram2dcontour"
           }
          ],
          "mesh3d": [
           {
            "colorbar": {
             "outlinewidth": 0,
             "ticks": ""
            },
            "type": "mesh3d"
           }
          ],
          "parcoords": [
           {
            "line": {
             "colorbar": {
              "outlinewidth": 0,
              "ticks": ""
             }
            },
            "type": "parcoords"
           }
          ],
          "pie": [
           {
            "automargin": true,
            "type": "pie"
           }
          ],
          "scatter": [
           {
            "fillpattern": {
             "fillmode": "overlay",
             "size": 10,
             "solidity": 0.2
            },
            "type": "scatter"
           }
          ],
          "scatter3d": [
           {
            "line": {
             "colorbar": {
              "outlinewidth": 0,
              "ticks": ""
             }
            },
            "marker": {
             "colorbar": {
              "outlinewidth": 0,
              "ticks": ""
             }
            },
            "type": "scatter3d"
           }
          ],
          "scattercarpet": [
           {
            "marker": {
             "colorbar": {
              "outlinewidth": 0,
              "ticks": ""
             }
            },
            "type": "scattercarpet"
           }
          ],
          "scattergeo": [
           {
            "marker": {
             "colorbar": {
              "outlinewidth": 0,
              "ticks": ""
             }
            },
            "type": "scattergeo"
           }
          ],
          "scattergl": [
           {
            "marker": {
             "colorbar": {
              "outlinewidth": 0,
              "ticks": ""
             }
            },
            "type": "scattergl"
           }
          ],
          "scattermap": [
           {
            "marker": {
             "colorbar": {
              "outlinewidth": 0,
              "ticks": ""
             }
            },
            "type": "scattermap"
           }
          ],
          "scattermapbox": [
           {
            "marker": {
             "colorbar": {
              "outlinewidth": 0,
              "ticks": ""
             }
            },
            "type": "scattermapbox"
           }
          ],
          "scatterpolar": [
           {
            "marker": {
             "colorbar": {
              "outlinewidth": 0,
              "ticks": ""
             }
            },
            "type": "scatterpolar"
           }
          ],
          "scatterpolargl": [
           {
            "marker": {
             "colorbar": {
              "outlinewidth": 0,
              "ticks": ""
             }
            },
            "type": "scatterpolargl"
           }
          ],
          "scatterternary": [
           {
            "marker": {
             "colorbar": {
              "outlinewidth": 0,
              "ticks": ""
             }
            },
            "type": "scatterternary"
           }
          ],
          "surface": [
           {
            "colorbar": {
             "outlinewidth": 0,
             "ticks": ""
            },
            "colorscale": [
             [
              0,
              "#0d0887"
             ],
             [
              0.1111111111111111,
              "#46039f"
             ],
             [
              0.2222222222222222,
              "#7201a8"
             ],
             [
              0.3333333333333333,
              "#9c179e"
             ],
             [
              0.4444444444444444,
              "#bd3786"
             ],
             [
              0.5555555555555556,
              "#d8576b"
             ],
             [
              0.6666666666666666,
              "#ed7953"
             ],
             [
              0.7777777777777778,
              "#fb9f3a"
             ],
             [
              0.8888888888888888,
              "#fdca26"
             ],
             [
              1,
              "#f0f921"
             ]
            ],
            "type": "surface"
           }
          ],
          "table": [
           {
            "cells": {
             "fill": {
              "color": "#EBF0F8"
             },
             "line": {
              "color": "white"
             }
            },
            "header": {
             "fill": {
              "color": "#C8D4E3"
             },
             "line": {
              "color": "white"
             }
            },
            "type": "table"
           }
          ]
         },
         "layout": {
          "annotationdefaults": {
           "arrowcolor": "#2a3f5f",
           "arrowhead": 0,
           "arrowwidth": 1
          },
          "autotypenumbers": "strict",
          "coloraxis": {
           "colorbar": {
            "outlinewidth": 0,
            "ticks": ""
           }
          },
          "colorscale": {
           "diverging": [
            [
             0,
             "#8e0152"
            ],
            [
             0.1,
             "#c51b7d"
            ],
            [
             0.2,
             "#de77ae"
            ],
            [
             0.3,
             "#f1b6da"
            ],
            [
             0.4,
             "#fde0ef"
            ],
            [
             0.5,
             "#f7f7f7"
            ],
            [
             0.6,
             "#e6f5d0"
            ],
            [
             0.7,
             "#b8e186"
            ],
            [
             0.8,
             "#7fbc41"
            ],
            [
             0.9,
             "#4d9221"
            ],
            [
             1,
             "#276419"
            ]
           ],
           "sequential": [
            [
             0,
             "#0d0887"
            ],
            [
             0.1111111111111111,
             "#46039f"
            ],
            [
             0.2222222222222222,
             "#7201a8"
            ],
            [
             0.3333333333333333,
             "#9c179e"
            ],
            [
             0.4444444444444444,
             "#bd3786"
            ],
            [
             0.5555555555555556,
             "#d8576b"
            ],
            [
             0.6666666666666666,
             "#ed7953"
            ],
            [
             0.7777777777777778,
             "#fb9f3a"
            ],
            [
             0.8888888888888888,
             "#fdca26"
            ],
            [
             1,
             "#f0f921"
            ]
           ],
           "sequentialminus": [
            [
             0,
             "#0d0887"
            ],
            [
             0.1111111111111111,
             "#46039f"
            ],
            [
             0.2222222222222222,
             "#7201a8"
            ],
            [
             0.3333333333333333,
             "#9c179e"
            ],
            [
             0.4444444444444444,
             "#bd3786"
            ],
            [
             0.5555555555555556,
             "#d8576b"
            ],
            [
             0.6666666666666666,
             "#ed7953"
            ],
            [
             0.7777777777777778,
             "#fb9f3a"
            ],
            [
             0.8888888888888888,
             "#fdca26"
            ],
            [
             1,
             "#f0f921"
            ]
           ]
          },
          "colorway": [
           "#636efa",
           "#EF553B",
           "#00cc96",
           "#ab63fa",
           "#FFA15A",
           "#19d3f3",
           "#FF6692",
           "#B6E880",
           "#FF97FF",
           "#FECB52"
          ],
          "font": {
           "color": "#2a3f5f"
          },
          "geo": {
           "bgcolor": "white",
           "lakecolor": "white",
           "landcolor": "#E5ECF6",
           "showlakes": true,
           "showland": true,
           "subunitcolor": "white"
          },
          "hoverlabel": {
           "align": "left"
          },
          "hovermode": "closest",
          "mapbox": {
           "style": "light"
          },
          "paper_bgcolor": "white",
          "plot_bgcolor": "#E5ECF6",
          "polar": {
           "angularaxis": {
            "gridcolor": "white",
            "linecolor": "white",
            "ticks": ""
           },
           "bgcolor": "#E5ECF6",
           "radialaxis": {
            "gridcolor": "white",
            "linecolor": "white",
            "ticks": ""
           }
          },
          "scene": {
           "xaxis": {
            "backgroundcolor": "#E5ECF6",
            "gridcolor": "white",
            "gridwidth": 2,
            "linecolor": "white",
            "showbackground": true,
            "ticks": "",
            "zerolinecolor": "white"
           },
           "yaxis": {
            "backgroundcolor": "#E5ECF6",
            "gridcolor": "white",
            "gridwidth": 2,
            "linecolor": "white",
            "showbackground": true,
            "ticks": "",
            "zerolinecolor": "white"
           },
           "zaxis": {
            "backgroundcolor": "#E5ECF6",
            "gridcolor": "white",
            "gridwidth": 2,
            "linecolor": "white",
            "showbackground": true,
            "ticks": "",
            "zerolinecolor": "white"
           }
          },
          "shapedefaults": {
           "line": {
            "color": "#2a3f5f"
           }
          },
          "ternary": {
           "aaxis": {
            "gridcolor": "white",
            "linecolor": "white",
            "ticks": ""
           },
           "baxis": {
            "gridcolor": "white",
            "linecolor": "white",
            "ticks": ""
           },
           "bgcolor": "#E5ECF6",
           "caxis": {
            "gridcolor": "white",
            "linecolor": "white",
            "ticks": ""
           }
          },
          "title": {
           "x": 0.05
          },
          "xaxis": {
           "automargin": true,
           "gridcolor": "white",
           "linecolor": "white",
           "ticks": "",
           "title": {
            "standoff": 15
           },
           "zerolinecolor": "white",
           "zerolinewidth": 2
          },
          "yaxis": {
           "automargin": true,
           "gridcolor": "white",
           "linecolor": "white",
           "ticks": "",
           "title": {
            "standoff": 15
           },
           "zerolinecolor": "white",
           "zerolinewidth": 2
          }
         }
        },
        "xaxis": {
         "anchor": "y",
         "categoryarray": [
          "M",
          "B"
         ],
         "categoryorder": "array",
         "domain": [
          0,
          1
         ],
         "title": {
          "text": "diagnosis"
         }
        },
        "yaxis": {
         "anchor": "x",
         "domain": [
          0,
          1
         ],
         "title": {
          "text": "area_mean"
         }
        }
       }
      }
     },
     "metadata": {},
     "output_type": "display_data"
    },
    {
     "data": {
      "application/vnd.plotly.v1+json": {
       "config": {
        "plotlyServerURL": "https://plot.ly"
       },
       "data": [
        {
         "alignmentgroup": "True",
         "hovertemplate": "diagnosis=%{x}<br>smoothness_mean=%{y}<extra></extra>",
         "legendgroup": "M",
         "marker": {
          "color": "#FF0000"
         },
         "name": "M",
         "notched": false,
         "offsetgroup": "M",
         "orientation": "v",
         "showlegend": true,
         "type": "box",
         "x": [
          "M",
          "M",
          "M",
          "M",
          "M",
          "M",
          "M",
          "M",
          "M",
          "M",
          "M",
          "M",
          "M",
          "M",
          "M",
          "M",
          "M",
          "M",
          "M",
          "M",
          "M",
          "M",
          "M",
          "M",
          "M",
          "M",
          "M",
          "M",
          "M",
          "M",
          "M",
          "M",
          "M",
          "M",
          "M",
          "M",
          "M",
          "M",
          "M",
          "M",
          "M",
          "M",
          "M",
          "M",
          "M",
          "M",
          "M",
          "M",
          "M",
          "M",
          "M",
          "M",
          "M",
          "M",
          "M",
          "M",
          "M",
          "M",
          "M",
          "M",
          "M",
          "M",
          "M",
          "M",
          "M",
          "M",
          "M",
          "M",
          "M",
          "M",
          "M",
          "M",
          "M",
          "M",
          "M",
          "M",
          "M",
          "M",
          "M",
          "M",
          "M",
          "M",
          "M",
          "M",
          "M",
          "M",
          "M",
          "M",
          "M",
          "M",
          "M",
          "M",
          "M",
          "M",
          "M",
          "M",
          "M",
          "M",
          "M",
          "M",
          "M",
          "M",
          "M",
          "M",
          "M",
          "M",
          "M",
          "M",
          "M",
          "M",
          "M",
          "M",
          "M",
          "M",
          "M",
          "M",
          "M",
          "M",
          "M",
          "M",
          "M",
          "M",
          "M",
          "M",
          "M",
          "M",
          "M",
          "M",
          "M",
          "M",
          "M",
          "M",
          "M",
          "M",
          "M",
          "M",
          "M",
          "M",
          "M",
          "M",
          "M",
          "M",
          "M",
          "M",
          "M",
          "M",
          "M",
          "M",
          "M",
          "M",
          "M",
          "M",
          "M",
          "M",
          "M",
          "M",
          "M",
          "M",
          "M",
          "M",
          "M",
          "M",
          "M",
          "M",
          "M",
          "M",
          "M",
          "M",
          "M",
          "M",
          "M",
          "M",
          "M",
          "M",
          "M",
          "M",
          "M",
          "M",
          "M",
          "M",
          "M",
          "M",
          "M",
          "M",
          "M",
          "M",
          "M",
          "M",
          "M",
          "M",
          "M",
          "M",
          "M",
          "M",
          "M",
          "M",
          "M",
          "M",
          "M",
          "M",
          "M",
          "M",
          "M",
          "M",
          "M",
          "M",
          "M",
          "M",
          "M",
          "M",
          "M",
          "M"
         ],
         "x0": " ",
         "xaxis": "x",
         "y": {
          "bdata": "rK3YX3ZPvj/9vKlIhbG1P+Y/pN++Drw/PQrXo3A9wj/M7snDQq25P+viNhrAW8A/YXE486s5uD8AkX77OnC+P0HxY8xdS8A/zTtO0ZFcvj9uTE9Y4gG1P7MMcayL27g/5WGh1jTvuD82donqrYG1PzJ3LSEf9Lw/uK8D54wovT9tqBjnb0K5P8HKoUW2870/l6jeGtgquT9kXdxGA3i7P6a4quy7Irg/irDh6ZWyvD/NO07RkVy+PySX/5B++7o/7Q2+MJkquD/7XG3F/rK7P0wao3VUNbk/zF1LyAc9uz/AWyBB8WO8P4bJVMGopL4/xTh/EwoRuD85tMh2vp+6PwtGJXUCmrg/vW987ZkluT9HVRNE3Qe4P6YKRiV1Aro/vhOzXgzltD9+HThnRGm/P6xWJvxSP7c/SnuDL0ymuj8gKSLDKt64PxiV1AloIrw/93XgnBGlvT9Pr5RliGO9PwJlU67wLrc/FNBE2PD0uj+WIY51cRu9P9CzWfW52ro/mnecoiO5vD/iWBe30QC+PwBXsmMjELc/Qs9m1edquz8PC7Wmece5P/GAsilXeLc/3SQGgZVDuz8u/yH99nXAP7yWkA96Nrs/tMh2vp8avz8sms5OBke5P1oqb0c4Lbg/IeUn1T4dtz9aZDvfT423PyntDb4wmbo/WoEhq1s9tz8st7QaEve4PwtjC0EOSrg/24r9ZffkwT9+jLlrCfnAPzqSy39Iv70/xSCwcmiRvT9RvTWwVYK1PySX/5B++7o/9pfdk4eFwj+IgEOoUrO3P5tattYXCbU/lkOLbOf7uT+jI7n8h/S7PyDSb18Hzrk/3EYDeAskuD/nHafoSC63P451cRsN4L0/3xrYKsHiuD+SXP5D+u27PyUGgZVDi7w/b9i2KLNBtj956SYxCKy8P0MEHEKVmrU/qFfKMsSxtj/Qs1n1udq6Pygs8YCyKbc/u7iNBvAWwD+XqN4a2Cq5P8SxLm6jAbw/2T15WKg1vT+oqWVrfZG4Px2s/3OYL7c/I2dhTzv8tT+F61G4HoW7P9UJaCJseLo/fdCzWfW5uj+4HoXrUbi+P3ReY5eo3rI/NlmjHqLRtT/2C3bDtkW5P6HzGrtE9bY/2T15WKg1vT/lYaHWNO/AP9RlMbH5uLY/v4I0Y9F0tj+h1jTvOEW3P+oENBE2PL0//kP67evAuT9hcTjzqzm4P07RkVz+Q7o/2jhiLT4FuD88vVKWIY61Pz0K16NwPbo/XwfOGVHauz/ZPXlYqDW9P/wApDZxcrc/RzgteNFXuD9Pr5RliGO1P5FhFW9kHrk/X5hMFYxKuj8PC7Wmece5P6vP1VbsL7s/INJvXwfOuT/l0CLb+X66P+Y/pN++Drw/vw6cM6K0tz9KDAIrhxbBP8BbIEHxY7w/vJaQD3o2uz+amZmZmZm5Pwb1LXO6LLY/74/3qpUJtz9uowG8BRK0P2d+NQcI5rg/BBxClZo9uD/FOH8TChG4P5eQD3o2q7Y/1nPS+8bXtj/pJjEIrBy6PwdfmEwVjLo/7uvAOSNKuz8xthDkoIS5P3E9CtejcL0/2c73U+Oluz+JDKt4I/O4P5yiI7n8h7Q/wcqhRbbzvT+wA+eMKO29P23n+6nx0r0/XDgQkgVMuD9oImx4eqW8P2cPtAJDVrc/IEHxY8xduz/4Nv3ZjxS5P4qO5PIf0r8/YHZPHhZqvT8tQxzr4ja6PwaBlUOLbLc/ejarPldbuT/2fw7z5QW4P7yWkA96Nrs/HPD5YYTwuD+qYFRSJ6C5P5G4x9KHLrg/xY8xdy0hvz8ng6Pk1Tm2P0Jg5dAi27k/GQRWDi2yvT+OdXEbDeC9P7ByaJHtfL8/9pfdk4eFuj+U9gZfmEy1P3npJjEIrLw/9ODurN12uT9TBaOSOgG9P8iYu5aQD7o/iUFg5dAiuz/ABG7dzVO1P2Qe+YOB57Y/SMSUSKKXuT/t0/GYgcq4P7N78rBQa7o/u0T11sBWuT8c6+I2GsC7P9YcIJijx7c/TtGRXP5Duj9wzojS3uC7P+FdLuI7MbM/qmBUUieguT9j7lpCPui5Py2yne+nxrs/OpLLf0i/vT981cqEX+q3P5vmHafoSL4/jgbwFkhQvD/zjlN0JJe3PxB6Nqs+V7s/B1+YTBWMuj+R7Xw/NV66P6orn+V5cLc/nl4pyxDHuj8YJlMFo5K6P8Dsnjws1Lo/GJXUCWgivD/RItv5fmq8Pyh+jLlrCbk/93XgnBGltT9HA3gLJCi+Pw==",
          "dtype": "f8"
         },
         "y0": " ",
         "yaxis": "y"
        },
        {
         "alignmentgroup": "True",
         "hovertemplate": "diagnosis=%{x}<br>smoothness_mean=%{y}<extra></extra>",
         "legendgroup": "B",
         "marker": {
          "color": "#00FF00"
         },
         "name": "B",
         "notched": false,
         "offsetgroup": "B",
         "orientation": "v",
         "showlegend": true,
         "type": "box",
         "x": [
          "B",
          "B",
          "B",
          "B",
          "B",
          "B",
          "B",
          "B",
          "B",
          "B",
          "B",
          "B",
          "B",
          "B",
          "B",
          "B",
          "B",
          "B",
          "B",
          "B",
          "B",
          "B",
          "B",
          "B",
          "B",
          "B",
          "B",
          "B",
          "B",
          "B",
          "B",
          "B",
          "B",
          "B",
          "B",
          "B",
          "B",
          "B",
          "B",
          "B",
          "B",
          "B",
          "B",
          "B",
          "B",
          "B",
          "B",
          "B",
          "B",
          "B",
          "B",
          "B",
          "B",
          "B",
          "B",
          "B",
          "B",
          "B",
          "B",
          "B",
          "B",
          "B",
          "B",
          "B",
          "B",
          "B",
          "B",
          "B",
          "B",
          "B",
          "B",
          "B",
          "B",
          "B",
          "B",
          "B",
          "B",
          "B",
          "B",
          "B",
          "B",
          "B",
          "B",
          "B",
          "B",
          "B",
          "B",
          "B",
          "B",
          "B",
          "B",
          "B",
          "B",
          "B",
          "B",
          "B",
          "B",
          "B",
          "B",
          "B",
          "B",
          "B",
          "B",
          "B",
          "B",
          "B",
          "B",
          "B",
          "B",
          "B",
          "B",
          "B",
          "B",
          "B",
          "B",
          "B",
          "B",
          "B",
          "B",
          "B",
          "B",
          "B",
          "B",
          "B",
          "B",
          "B",
          "B",
          "B",
          "B",
          "B",
          "B",
          "B",
          "B",
          "B",
          "B",
          "B",
          "B",
          "B",
          "B",
          "B",
          "B",
          "B",
          "B",
          "B",
          "B",
          "B",
          "B",
          "B",
          "B",
          "B",
          "B",
          "B",
          "B",
          "B",
          "B",
          "B",
          "B",
          "B",
          "B",
          "B",
          "B",
          "B",
          "B",
          "B",
          "B",
          "B",
          "B",
          "B",
          "B",
          "B",
          "B",
          "B",
          "B",
          "B",
          "B",
          "B",
          "B",
          "B",
          "B",
          "B",
          "B",
          "B",
          "B",
          "B",
          "B",
          "B",
          "B",
          "B",
          "B",
          "B",
          "B",
          "B",
          "B",
          "B",
          "B",
          "B",
          "B",
          "B",
          "B",
          "B",
          "B",
          "B",
          "B",
          "B",
          "B",
          "B",
          "B",
          "B",
          "B",
          "B",
          "B",
          "B",
          "B",
          "B",
          "B",
          "B",
          "B",
          "B",
          "B",
          "B",
          "B",
          "B",
          "B",
          "B",
          "B",
          "B",
          "B",
          "B",
          "B",
          "B",
          "B",
          "B",
          "B",
          "B",
          "B",
          "B",
          "B",
          "B",
          "B",
          "B",
          "B",
          "B",
          "B",
          "B",
          "B",
          "B",
          "B",
          "B",
          "B",
          "B",
          "B",
          "B",
          "B",
          "B",
          "B",
          "B",
          "B",
          "B",
          "B",
          "B",
          "B",
          "B",
          "B",
          "B",
          "B",
          "B",
          "B",
          "B",
          "B",
          "B",
          "B",
          "B",
          "B",
          "B",
          "B",
          "B",
          "B",
          "B",
          "B",
          "B",
          "B",
          "B",
          "B",
          "B",
          "B",
          "B",
          "B",
          "B",
          "B",
          "B",
          "B",
          "B",
          "B",
          "B",
          "B",
          "B",
          "B",
          "B",
          "B",
          "B",
          "B",
          "B",
          "B",
          "B",
          "B",
          "B",
          "B",
          "B",
          "B",
          "B",
          "B",
          "B",
          "B",
          "B",
          "B",
          "B",
          "B",
          "B",
          "B",
          "B",
          "B",
          "B",
          "B",
          "B",
          "B",
          "B",
          "B",
          "B",
          "B",
          "B",
          "B",
          "B",
          "B",
          "B",
          "B",
          "B",
          "B",
          "B",
          "B",
          "B",
          "B",
          "B",
          "B",
          "B",
          "B",
          "B",
          "B",
          "B",
          "B",
          "B",
          "B",
          "B",
          "B",
          "B",
          "B",
          "B",
          "B"
         ],
         "x0": " ",
         "xaxis": "x",
         "y": {
          "bdata": "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",
          "dtype": "f8"
         },
         "y0": " ",
         "yaxis": "y"
        }
       ],
       "layout": {
        "boxmode": "overlay",
        "legend": {
         "title": {
          "text": "diagnosis"
         },
         "tracegroupgap": 0
        },
        "margin": {
         "t": 60
        },
        "template": {
         "data": {
          "bar": [
           {
            "error_x": {
             "color": "#2a3f5f"
            },
            "error_y": {
             "color": "#2a3f5f"
            },
            "marker": {
             "line": {
              "color": "#E5ECF6",
              "width": 0.5
             },
             "pattern": {
              "fillmode": "overlay",
              "size": 10,
              "solidity": 0.2
             }
            },
            "type": "bar"
           }
          ],
          "barpolar": [
           {
            "marker": {
             "line": {
              "color": "#E5ECF6",
              "width": 0.5
             },
             "pattern": {
              "fillmode": "overlay",
              "size": 10,
              "solidity": 0.2
             }
            },
            "type": "barpolar"
           }
          ],
          "carpet": [
           {
            "aaxis": {
             "endlinecolor": "#2a3f5f",
             "gridcolor": "white",
             "linecolor": "white",
             "minorgridcolor": "white",
             "startlinecolor": "#2a3f5f"
            },
            "baxis": {
             "endlinecolor": "#2a3f5f",
             "gridcolor": "white",
             "linecolor": "white",
             "minorgridcolor": "white",
             "startlinecolor": "#2a3f5f"
            },
            "type": "carpet"
           }
          ],
          "choropleth": [
           {
            "colorbar": {
             "outlinewidth": 0,
             "ticks": ""
            },
            "type": "choropleth"
           }
          ],
          "contour": [
           {
            "colorbar": {
             "outlinewidth": 0,
             "ticks": ""
            },
            "colorscale": [
             [
              0,
              "#0d0887"
             ],
             [
              0.1111111111111111,
              "#46039f"
             ],
             [
              0.2222222222222222,
              "#7201a8"
             ],
             [
              0.3333333333333333,
              "#9c179e"
             ],
             [
              0.4444444444444444,
              "#bd3786"
             ],
             [
              0.5555555555555556,
              "#d8576b"
             ],
             [
              0.6666666666666666,
              "#ed7953"
             ],
             [
              0.7777777777777778,
              "#fb9f3a"
             ],
             [
              0.8888888888888888,
              "#fdca26"
             ],
             [
              1,
              "#f0f921"
             ]
            ],
            "type": "contour"
           }
          ],
          "contourcarpet": [
           {
            "colorbar": {
             "outlinewidth": 0,
             "ticks": ""
            },
            "type": "contourcarpet"
           }
          ],
          "heatmap": [
           {
            "colorbar": {
             "outlinewidth": 0,
             "ticks": ""
            },
            "colorscale": [
             [
              0,
              "#0d0887"
             ],
             [
              0.1111111111111111,
              "#46039f"
             ],
             [
              0.2222222222222222,
              "#7201a8"
             ],
             [
              0.3333333333333333,
              "#9c179e"
             ],
             [
              0.4444444444444444,
              "#bd3786"
             ],
             [
              0.5555555555555556,
              "#d8576b"
             ],
             [
              0.6666666666666666,
              "#ed7953"
             ],
             [
              0.7777777777777778,
              "#fb9f3a"
             ],
             [
              0.8888888888888888,
              "#fdca26"
             ],
             [
              1,
              "#f0f921"
             ]
            ],
            "type": "heatmap"
           }
          ],
          "histogram": [
           {
            "marker": {
             "pattern": {
              "fillmode": "overlay",
              "size": 10,
              "solidity": 0.2
             }
            },
            "type": "histogram"
           }
          ],
          "histogram2d": [
           {
            "colorbar": {
             "outlinewidth": 0,
             "ticks": ""
            },
            "colorscale": [
             [
              0,
              "#0d0887"
             ],
             [
              0.1111111111111111,
              "#46039f"
             ],
             [
              0.2222222222222222,
              "#7201a8"
             ],
             [
              0.3333333333333333,
              "#9c179e"
             ],
             [
              0.4444444444444444,
              "#bd3786"
             ],
             [
              0.5555555555555556,
              "#d8576b"
             ],
             [
              0.6666666666666666,
              "#ed7953"
             ],
             [
              0.7777777777777778,
              "#fb9f3a"
             ],
             [
              0.8888888888888888,
              "#fdca26"
             ],
             [
              1,
              "#f0f921"
             ]
            ],
            "type": "histogram2d"
           }
          ],
          "histogram2dcontour": [
           {
            "colorbar": {
             "outlinewidth": 0,
             "ticks": ""
            },
            "colorscale": [
             [
              0,
              "#0d0887"
             ],
             [
              0.1111111111111111,
              "#46039f"
             ],
             [
              0.2222222222222222,
              "#7201a8"
             ],
             [
              0.3333333333333333,
              "#9c179e"
             ],
             [
              0.4444444444444444,
              "#bd3786"
             ],
             [
              0.5555555555555556,
              "#d8576b"
             ],
             [
              0.6666666666666666,
              "#ed7953"
             ],
             [
              0.7777777777777778,
              "#fb9f3a"
             ],
             [
              0.8888888888888888,
              "#fdca26"
             ],
             [
              1,
              "#f0f921"
             ]
            ],
            "type": "histogram2dcontour"
           }
          ],
          "mesh3d": [
           {
            "colorbar": {
             "outlinewidth": 0,
             "ticks": ""
            },
            "type": "mesh3d"
           }
          ],
          "parcoords": [
           {
            "line": {
             "colorbar": {
              "outlinewidth": 0,
              "ticks": ""
             }
            },
            "type": "parcoords"
           }
          ],
          "pie": [
           {
            "automargin": true,
            "type": "pie"
           }
          ],
          "scatter": [
           {
            "fillpattern": {
             "fillmode": "overlay",
             "size": 10,
             "solidity": 0.2
            },
            "type": "scatter"
           }
          ],
          "scatter3d": [
           {
            "line": {
             "colorbar": {
              "outlinewidth": 0,
              "ticks": ""
             }
            },
            "marker": {
             "colorbar": {
              "outlinewidth": 0,
              "ticks": ""
             }
            },
            "type": "scatter3d"
           }
          ],
          "scattercarpet": [
           {
            "marker": {
             "colorbar": {
              "outlinewidth": 0,
              "ticks": ""
             }
            },
            "type": "scattercarpet"
           }
          ],
          "scattergeo": [
           {
            "marker": {
             "colorbar": {
              "outlinewidth": 0,
              "ticks": ""
             }
            },
            "type": "scattergeo"
           }
          ],
          "scattergl": [
           {
            "marker": {
             "colorbar": {
              "outlinewidth": 0,
              "ticks": ""
             }
            },
            "type": "scattergl"
           }
          ],
          "scattermap": [
           {
            "marker": {
             "colorbar": {
              "outlinewidth": 0,
              "ticks": ""
             }
            },
            "type": "scattermap"
           }
          ],
          "scattermapbox": [
           {
            "marker": {
             "colorbar": {
              "outlinewidth": 0,
              "ticks": ""
             }
            },
            "type": "scattermapbox"
           }
          ],
          "scatterpolar": [
           {
            "marker": {
             "colorbar": {
              "outlinewidth": 0,
              "ticks": ""
             }
            },
            "type": "scatterpolar"
           }
          ],
          "scatterpolargl": [
           {
            "marker": {
             "colorbar": {
              "outlinewidth": 0,
              "ticks": ""
             }
            },
            "type": "scatterpolargl"
           }
          ],
          "scatterternary": [
           {
            "marker": {
             "colorbar": {
              "outlinewidth": 0,
              "ticks": ""
             }
            },
            "type": "scatterternary"
           }
          ],
          "surface": [
           {
            "colorbar": {
             "outlinewidth": 0,
             "ticks": ""
            },
            "colorscale": [
             [
              0,
              "#0d0887"
             ],
             [
              0.1111111111111111,
              "#46039f"
             ],
             [
              0.2222222222222222,
              "#7201a8"
             ],
             [
              0.3333333333333333,
              "#9c179e"
             ],
             [
              0.4444444444444444,
              "#bd3786"
             ],
             [
              0.5555555555555556,
              "#d8576b"
             ],
             [
              0.6666666666666666,
              "#ed7953"
             ],
             [
              0.7777777777777778,
              "#fb9f3a"
             ],
             [
              0.8888888888888888,
              "#fdca26"
             ],
             [
              1,
              "#f0f921"
             ]
            ],
            "type": "surface"
           }
          ],
          "table": [
           {
            "cells": {
             "fill": {
              "color": "#EBF0F8"
             },
             "line": {
              "color": "white"
             }
            },
            "header": {
             "fill": {
              "color": "#C8D4E3"
             },
             "line": {
              "color": "white"
             }
            },
            "type": "table"
           }
          ]
         },
         "layout": {
          "annotationdefaults": {
           "arrowcolor": "#2a3f5f",
           "arrowhead": 0,
           "arrowwidth": 1
          },
          "autotypenumbers": "strict",
          "coloraxis": {
           "colorbar": {
            "outlinewidth": 0,
            "ticks": ""
           }
          },
          "colorscale": {
           "diverging": [
            [
             0,
             "#8e0152"
            ],
            [
             0.1,
             "#c51b7d"
            ],
            [
             0.2,
             "#de77ae"
            ],
            [
             0.3,
             "#f1b6da"
            ],
            [
             0.4,
             "#fde0ef"
            ],
            [
             0.5,
             "#f7f7f7"
            ],
            [
             0.6,
             "#e6f5d0"
            ],
            [
             0.7,
             "#b8e186"
            ],
            [
             0.8,
             "#7fbc41"
            ],
            [
             0.9,
             "#4d9221"
            ],
            [
             1,
             "#276419"
            ]
           ],
           "sequential": [
            [
             0,
             "#0d0887"
            ],
            [
             0.1111111111111111,
             "#46039f"
            ],
            [
             0.2222222222222222,
             "#7201a8"
            ],
            [
             0.3333333333333333,
             "#9c179e"
            ],
            [
             0.4444444444444444,
             "#bd3786"
            ],
            [
             0.5555555555555556,
             "#d8576b"
            ],
            [
             0.6666666666666666,
             "#ed7953"
            ],
            [
             0.7777777777777778,
             "#fb9f3a"
            ],
            [
             0.8888888888888888,
             "#fdca26"
            ],
            [
             1,
             "#f0f921"
            ]
           ],
           "sequentialminus": [
            [
             0,
             "#0d0887"
            ],
            [
             0.1111111111111111,
             "#46039f"
            ],
            [
             0.2222222222222222,
             "#7201a8"
            ],
            [
             0.3333333333333333,
             "#9c179e"
            ],
            [
             0.4444444444444444,
             "#bd3786"
            ],
            [
             0.5555555555555556,
             "#d8576b"
            ],
            [
             0.6666666666666666,
             "#ed7953"
            ],
            [
             0.7777777777777778,
             "#fb9f3a"
            ],
            [
             0.8888888888888888,
             "#fdca26"
            ],
            [
             1,
             "#f0f921"
            ]
           ]
          },
          "colorway": [
           "#636efa",
           "#EF553B",
           "#00cc96",
           "#ab63fa",
           "#FFA15A",
           "#19d3f3",
           "#FF6692",
           "#B6E880",
           "#FF97FF",
           "#FECB52"
          ],
          "font": {
           "color": "#2a3f5f"
          },
          "geo": {
           "bgcolor": "white",
           "lakecolor": "white",
           "landcolor": "#E5ECF6",
           "showlakes": true,
           "showland": true,
           "subunitcolor": "white"
          },
          "hoverlabel": {
           "align": "left"
          },
          "hovermode": "closest",
          "mapbox": {
           "style": "light"
          },
          "paper_bgcolor": "white",
          "plot_bgcolor": "#E5ECF6",
          "polar": {
           "angularaxis": {
            "gridcolor": "white",
            "linecolor": "white",
            "ticks": ""
           },
           "bgcolor": "#E5ECF6",
           "radialaxis": {
            "gridcolor": "white",
            "linecolor": "white",
            "ticks": ""
           }
          },
          "scene": {
           "xaxis": {
            "backgroundcolor": "#E5ECF6",
            "gridcolor": "white",
            "gridwidth": 2,
            "linecolor": "white",
            "showbackground": true,
            "ticks": "",
            "zerolinecolor": "white"
           },
           "yaxis": {
            "backgroundcolor": "#E5ECF6",
            "gridcolor": "white",
            "gridwidth": 2,
            "linecolor": "white",
            "showbackground": true,
            "ticks": "",
            "zerolinecolor": "white"
           },
           "zaxis": {
            "backgroundcolor": "#E5ECF6",
            "gridcolor": "white",
            "gridwidth": 2,
            "linecolor": "white",
            "showbackground": true,
            "ticks": "",
            "zerolinecolor": "white"
           }
          },
          "shapedefaults": {
           "line": {
            "color": "#2a3f5f"
           }
          },
          "ternary": {
           "aaxis": {
            "gridcolor": "white",
            "linecolor": "white",
            "ticks": ""
           },
           "baxis": {
            "gridcolor": "white",
            "linecolor": "white",
            "ticks": ""
           },
           "bgcolor": "#E5ECF6",
           "caxis": {
            "gridcolor": "white",
            "linecolor": "white",
            "ticks": ""
           }
          },
          "title": {
           "x": 0.05
          },
          "xaxis": {
           "automargin": true,
           "gridcolor": "white",
           "linecolor": "white",
           "ticks": "",
           "title": {
            "standoff": 15
           },
           "zerolinecolor": "white",
           "zerolinewidth": 2
          },
          "yaxis": {
           "automargin": true,
           "gridcolor": "white",
           "linecolor": "white",
           "ticks": "",
           "title": {
            "standoff": 15
           },
           "zerolinecolor": "white",
           "zerolinewidth": 2
          }
         }
        },
        "xaxis": {
         "anchor": "y",
         "categoryarray": [
          "M",
          "B"
         ],
         "categoryorder": "array",
         "domain": [
          0,
          1
         ],
         "title": {
          "text": "diagnosis"
         }
        },
        "yaxis": {
         "anchor": "x",
         "domain": [
          0,
          1
         ],
         "title": {
          "text": "smoothness_mean"
         }
        }
       }
      }
     },
     "metadata": {},
     "output_type": "display_data"
    }
   ],
   "source": [
    "# Visually compare the distribution of each feature\n",
    "# for malignant tumours versus bening.\n",
    "# for a given feature, do its values tends to be different for maligant vs benign cases\n",
    "\n",
    "for column in df.drop(\"diagnosis\", axis=1).columns[:5]:\n",
    "    # For loop auto iterates through the first 5 columns of the DataFrame, excluding the 'diagnosis' column.\n",
    "    fig = px.box(data_frame = df,\n",
    "                 x='diagnosis',\n",
    "                 color = 'diagnosis',\n",
    "                 y=column,\n",
    "                 color_discrete_sequence=['#FF0000', '#00FF00'],\n",
    "                 orientation='v',)\n",
    "    fig.show()"
   ]
  },
  {
   "cell_type": "code",
   "execution_count": 10,
   "id": "cd3a395c",
   "metadata": {},
   "outputs": [
    {
     "name": "stdout",
     "output_type": "stream",
     "text": [
      "The columns are :\n",
      "[1] : radius_mean\n",
      "[2] : texture_mean\n",
      "[3] : perimeter_mean\n",
      "[4] : area_mean\n",
      "[5] : smoothness_mean\n",
      "[6] : compactness_mean\n",
      "[7] : concavity_mean\n",
      "[8] : concave points_mean\n",
      "[9] : symmetry_mean\n",
      "[10] : fractal_dimension_mean\n",
      "[11] : radius_se\n",
      "[12] : texture_se\n",
      "[13] : perimeter_se\n",
      "[14] : area_se\n",
      "[15] : smoothness_se\n",
      "[16] : compactness_se\n",
      "[17] : concavity_se\n",
      "[18] : concave points_se\n",
      "[19] : symmetry_se\n",
      "[20] : fractal_dimension_se\n",
      "[21] : radius_worst\n",
      "[22] : texture_worst\n",
      "[23] : perimeter_worst\n",
      "[24] : area_worst\n",
      "[25] : smoothness_worst\n",
      "[26] : compactness_worst\n",
      "[27] : concavity_worst\n",
      "[28] : concave points_worst\n",
      "[29] : symmetry_worst\n",
      "[30] : fractal_dimension_worst\n",
      "Analyzing performance for: texture_mean\n",
      "Enter which tumours(M/B) outlier less boxplot you want to see :\n",
      "Q1 :texture_mean    15.15\n",
      "Name: 0.25, dtype: float64\n",
      "Q3 :texture_mean    19.76\n",
      "Name: 0.75, dtype: float64\n",
      "IQR :texture_mean    4.61\n",
      "dtype: float64\n",
      "\n",
      "Upper Limit : texture_mean    26.675\n",
      "dtype: float64\n",
      "Lower Limit : texture_mean    8.235\n",
      "dtype: float64\n",
      "Without outliers graph of benign tumours is :\n"
     ]
    },
    {
     "data": {
      "image/png": "[encoded data removed]",
      "text/plain": [
       "<Figure size 640x480 with 1 Axes>"
      ]
     },
     "metadata": {},
     "output_type": "display_data"
    }
   ],
   "source": [
    "# finding outlier less boxplot of columns:\n",
    "\n",
    "\n",
    "def put_a_value_m(df_column_m):\n",
    "    \n",
    "    Q1_volume_m = df_column_m.quantile(0.25)\n",
    "    Q3_volume_m = df_column_m.quantile(0.75)\n",
    "    IQR_volume_m = Q3_volume_m - Q1_volume_m\n",
    "    \n",
    "    print(f\"Q1 :{Q1_volume_m}\")\n",
    "    print(f\"Q3 :{Q3_volume_m}\")\n",
    "    print(f\"IQR :{IQR_volume_m}\")\n",
    "    \n",
    "    upper_limit_m = Q3_volume_m + (1.5) * IQR_volume_m\n",
    "    lower_limit_m = Q1_volume_m - (1.5) * IQR_volume_m\n",
    "\n",
    "    print(\"\\nUpper Limit :\",upper_limit_m)\n",
    "    print(\"Lower Limit :\",lower_limit_m)\n",
    "    print(\"Without outliers graph malignant tumours is :\")\n",
    "\n",
    "    new_df = df_column_m[(df_column_m> lower_limit_m) & (df_column_m< upper_limit_m)]\n",
    "    new_df\n",
    "\n",
    "    new_df.value_counts().sum()\n",
    "    sns.boxplot(new_df)\n",
    "\n",
    "\n",
    "\n",
    "\n",
    "def put_a_value_b(df_column_b):\n",
    "    \n",
    "    Q1_volume_b = df_column_b.quantile(0.25)\n",
    "    Q3_volume_b = df_column_b.quantile(0.75)\n",
    "    IQR_volume_b = Q3_volume_b - Q1_volume_b\n",
    "    \n",
    "    print(f\"Q1 :{Q1_volume_b}\")\n",
    "    print(f\"Q3 :{Q3_volume_b}\")\n",
    "    print(f\"IQR :{IQR_volume_b}\")\n",
    "    \n",
    "    upper_limit_b = Q3_volume_b + (1.5) * IQR_volume_b\n",
    "    lower_limit_b = Q1_volume_b - (1.5) * IQR_volume_b\n",
    "\n",
    "    print(\"\\nUpper Limit :\",upper_limit_b)\n",
    "    print(\"Lower Limit :\",lower_limit_b)\n",
    "    print(\"Without outliers graph of benign tumours is :\")\n",
    "\n",
    "    new_df = df_column_b[(df_column_b> lower_limit_b) & (df_column_b< upper_limit_b)]\n",
    "    new_df\n",
    "\n",
    "    new_df.value_counts().sum()\n",
    "    sns.boxplot(new_df)\n",
    "\n",
    "\n",
    "\n",
    "print(\"The columns are :\")\n",
    "new_column = df.drop(\"diagnosis\", axis=1)\n",
    "for index,value in enumerate(new_column.columns):\n",
    "    print(f\"[{index + 1}] : {value}\")\n",
    "\n",
    "\n",
    "value = int(input(\"Enter the column number to get the output :\"))\n",
    "try :\n",
    "    if 0 <= value <= len(new_column.columns):\n",
    "        selected_value = new_column.columns[value -1]\n",
    "        print(f\"Analyzing performance for: {selected_value}\")\n",
    "    else:\n",
    "                print(\"Invalid number. Please try again.\")\n",
    "except ValueError:\n",
    "            print(\"Invalid input. Please enter a number.\")\n",
    "\n",
    "# it will select the column which has malignant tumours\n",
    "df_column_m = df[df[\"diagnosis\"] == \"M\"][selected_value].reset_index()\n",
    "\n",
    "# it will select the column which has benign tumours\n",
    "df_column_b = df[df[\"diagnosis\"] == \"B\"][selected_value].reset_index()\n",
    "\n",
    "print(\"Enter which tumours(M/B) outlier less boxplot you want to see :\")\n",
    "value = input(\"Enter the M / B\")\n",
    "if value in \"M,m\":\n",
    "    put_a_value_m(df_column_m.drop(\"index\",axis=1))\n",
    "    \n",
    "elif value in \"B,b\":\n",
    "    put_a_value_b(df_column_b.drop(\"index\",axis=1))\n",
    "\n",
    "else :\n",
    "    print(\"INVALID ENTRY\")"
   ]
  },
  {
   "cell_type": "code",
   "execution_count": null,
   "id": "a4bcba42",
   "metadata": {},
   "outputs": [],
   "source": []
  },
  {
   "cell_type": "code",
   "execution_count": null,
   "id": "44e20986",
   "metadata": {},
   "outputs": [],
   "source": []
  },
  {
   "cell_type": "code",
   "execution_count": null,
   "id": "0e003517",
   "metadata": {},
   "outputs": [],
   "source": []
  },
  {
   "cell_type": "code",
   "execution_count": null,
   "id": "b99b60cb",
   "metadata": {},
   "outputs": [],
   "source": []
  }
 ],
 "metadata": {
  "kernelspec": {
   "display_name": "Python 3",
   "language": "python",
   "name": "python3"
  },
  "language_info": {
   "codemirror_mode": {
    "name": "ipython",
    "version": 3
   },
   "file_extension": ".py",
   "mimetype": "text/x-python",
   "name": "python",
   "nbconvert_exporter": "python",
   "pygments_lexer": "ipython3",
   "version": "3.13.3"
  }
 },
 "nbformat": 4,
 "nbformat_minor": 5
}
